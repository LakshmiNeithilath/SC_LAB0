{
  "cells": [
    {
      "cell_type": "markdown",
      "metadata": {
        "id": "Zhg4ydlXiV9A"
      },
      "source": [
        "\n",
        "\n",
        "\n",
        "\n",
        "\n",
        "\n",
        "\n",
        "\n",
        "\n",
        "\n",
        "\n",
        "\n",
        "\n",
        "\n",
        "\n",
        "\n",
        "# Analytical Integration (Exact )\n"
      ]
    },
    {
      "cell_type": "markdown",
      "metadata": {
        "id": "G1Q97e7diV9D"
      },
      "source": [
        "Symbolic computation\n",
        "====================\n",
        "\n",
        "SymPy\n",
        "-----\n",
        "\n",
        "In this section, we introduce some basic functionality of the SymPy (SYMbolic Python) library. In contrast to numerical computation (involving numbers), in symbolic calculation we are processing and transforming generic variables.\n",
        "\n",
        "The SymPy home page is <http://sympy.org/>, and provides the full (and up-to-date) documentation for this library.\n",
        "\n",
        "Symbolic calculation is very slow compared to floating point operation (see for example [symbolic calculation for decimals](13-numeric-computation.ipynb#Symbolic-calculation)), and thus generally not for direct simulation. However, it is a powerful tool to support the preparation of code and symbolic work. Occasionally, we use symbolic operations in simulations to work out the most efficient numerical code, before that is executed."
      ]
    },
    {
      "cell_type": "code",
      "execution_count": null,
      "metadata": {
        "id": "Pq-WFxxZiV9E",
        "colab": {
          "base_uri": "https://localhost:8080/",
          "height": 39
        },
        "outputId": "a5ca556f-0942-4be6-9d7e-01a7f36f91ac"
      },
      "outputs": [
        {
          "output_type": "execute_result",
          "data": {
            "text/plain": [
              "2 - x"
            ],
            "text/latex": "$\\displaystyle 2 - x$"
          },
          "metadata": {},
          "execution_count": 1
        }
      ],
      "source": [
        "#Sympy example #1\n",
        "import sympy\n",
        "x= sympy.symbols('x')\n",
        "2 - x"
      ]
    },
    {
      "cell_type": "code",
      "source": [
        "import sympy\n",
        "x=sympy.symbols('x')\n",
        "2+x\n",
        "\n"
      ],
      "metadata": {
        "id": "wUmkKWKEaur-",
        "colab": {
          "base_uri": "https://localhost:8080/",
          "height": 39
        },
        "outputId": "6ea55016-814a-44cf-ddf2-1f6d4fcd787d"
      },
      "execution_count": null,
      "outputs": [
        {
          "output_type": "execute_result",
          "data": {
            "text/plain": [
              "x + 2"
            ],
            "text/latex": "$\\displaystyle x + 2$"
          },
          "metadata": {},
          "execution_count": 1
        }
      ]
    },
    {
      "cell_type": "code",
      "execution_count": null,
      "metadata": {
        "colab": {
          "base_uri": "https://localhost:8080/",
          "height": 38
        },
        "id": "z2u8FuPBiV9F",
        "outputId": "d66ec360-36a7-4181-de22-3ed1257076f4"
      },
      "outputs": [
        {
          "output_type": "execute_result",
          "data": {
            "text/latex": "$\\displaystyle 2 y + 3 z$",
            "text/plain": [
              "2*y + 3*z"
            ]
          },
          "metadata": {},
          "execution_count": 4
        }
      ],
      "source": [
        "CV#Sympy example #2\n",
        "import sympy\n",
        "x, y, z = sympy.symbols('x,y,z')\n",
        "2*y + 3*z"
      ]
    },
    {
      "cell_type": "code",
      "source": [
        "import sympy\n",
        "x,y,z=sympy.symbols('x,y,z')\n",
        "3*z+7*x"
      ],
      "metadata": {
        "colab": {
          "base_uri": "https://localhost:8080/",
          "height": 39
        },
        "id": "eyiyRvCxbS_I",
        "outputId": "bb1e2a3e-882f-4fdd-94bb-d7ddf9ec3ad1"
      },
      "execution_count": null,
      "outputs": [
        {
          "output_type": "execute_result",
          "data": {
            "text/plain": [
              "7*x + 3*z"
            ],
            "text/latex": "$\\displaystyle 7 x + 3 z$"
          },
          "metadata": {},
          "execution_count": 1
        }
      ]
    },
    {
      "cell_type": "code",
      "execution_count": null,
      "metadata": {
        "colab": {
          "base_uri": "https://localhost:8080/",
          "height": 39
        },
        "id": "tQPwF096iV9G",
        "outputId": "02f85e53-9c25-4ec1-a23b-8fc12a4e23d2"
      },
      "outputs": [
        {
          "output_type": "execute_result",
          "data": {
            "text/plain": [
              "x**3 + 2*x + y + 3*z"
            ],
            "text/latex": "$\\displaystyle x^{3} + 2 x + y + 3 z$"
          },
          "metadata": {},
          "execution_count": 1
        }
      ],
      "source": [
        "#Sympy example  #3\n",
        "import sympy\n",
        "x, y, z = sympy.symbols('x,y,z')\n",
        "2*x + 2*y + 3*z - y+x**3"
      ]
    },
    {
      "cell_type": "code",
      "source": [
        "from sympy import* \n",
        "x,y,z=symbols('x,y,z') \n",
        "2*x+2*y+3*z-y+x**3 "
      ],
      "metadata": {
        "colab": {
          "base_uri": "https://localhost:8080/",
          "height": 39
        },
        "id": "zTT5BVO6419R",
        "outputId": "e6760bc6-261f-4b6b-da68-015b79df7a6e"
      },
      "execution_count": null,
      "outputs": [
        {
          "output_type": "execute_result",
          "data": {
            "text/plain": [
              "x**3 + 2*x + y + 3*z"
            ],
            "text/latex": "$\\displaystyle x^{3} + 2 x + y + 3 z$"
          },
          "metadata": {},
          "execution_count": 2
        }
      ]
    },
    {
      "cell_type": "code",
      "source": [
        "import sympy as sp\n",
        "x,y,z=sympy.symbols('x,y,z')\n",
        "sp.integrate(3*x*2+2,x)\n"
      ],
      "metadata": {
        "colab": {
          "base_uri": "https://localhost:8080/",
          "height": 39
        },
        "id": "FTVQO4VhQZTN",
        "outputId": "447c92dd-14a3-45a5-a3b9-9a1a8f56b338"
      },
      "execution_count": null,
      "outputs": [
        {
          "output_type": "execute_result",
          "data": {
            "text/plain": [
              "3*x**2 + 2*x"
            ],
            "text/latex": "$\\displaystyle 3 x^{2} + 2 x$"
          },
          "metadata": {},
          "execution_count": 3
        }
      ]
    },
    {
      "cell_type": "code",
      "source": [
        "import sympy\n",
        "x,y,z=sympy.symbols('x,y,z')\n",
        "2*x+2*y+3*z+2*y+2*y+x**4"
      ],
      "metadata": {
        "id": "iHZFcN9icG7f",
        "colab": {
          "base_uri": "https://localhost:8080/",
          "height": 38
        },
        "outputId": "de704def-f6ef-4560-9404-877f9907b58c"
      },
      "execution_count": null,
      "outputs": [
        {
          "output_type": "execute_result",
          "data": {
            "text/latex": "$\\displaystyle x^{4} + 2 x + 6 y + 3 z$",
            "text/plain": [
              "x**4 + 2*x + 6*y + 3*z"
            ]
          },
          "metadata": {},
          "execution_count": 6
        }
      ]
    },
    {
      "cell_type": "markdown",
      "metadata": {
        "id": "zgE1SPpZiV9G"
      },
      "source": [
        "\n",
        "##### Analytical Integration example #1\n",
        "$𝑓(𝑥)=\\int {(3x^2+1)} dx$\n",
        "\n",
        "\n"
      ]
    },
    {
      "cell_type": "code",
      "source": [
        "import sympy as sp \n",
        "x = sp.symbols('x') \n",
        "sp.integrate(3*x**2 + 1, x )"
      ],
      "metadata": {
        "colab": {
          "base_uri": "https://localhost:8080/",
          "height": 38
        },
        "id": "2Zrwu7fu1of-",
        "outputId": "17091b1c-4ccc-439d-9fdb-70f0b8c05778"
      },
      "execution_count": null,
      "outputs": [
        {
          "output_type": "execute_result",
          "data": {
            "text/latex": "$\\displaystyle x^{3} + x$",
            "text/plain": [
              "x**3 + x"
            ]
          },
          "metadata": {},
          "execution_count": 1
        }
      ]
    },
    {
      "cell_type": "code",
      "execution_count": null,
      "metadata": {
        "colab": {
          "base_uri": "https://localhost:8080/",
          "height": 39
        },
        "id": "kGYje7E3iV9G",
        "outputId": "a718a8b9-a00a-4527-87aa-4baf2c4c51b9"
      },
      "outputs": [
        {
          "output_type": "execute_result",
          "data": {
            "text/plain": [
              "1.0*x**3 + 1.0*x"
            ],
            "text/latex": "$\\displaystyle 1.0 x^{3} + 1.0 x$"
          },
          "metadata": {},
          "execution_count": 3
        }
      ],
      "source": [
        "#Analytical Integration example #1\n",
        "import sympy as sp\n",
        "\n",
        "sp.integrate(3.0*x**2 +1,x)"
      ]
    },
    {
      "cell_type": "code",
      "source": [
        "import sympy as sp \n",
        "x= sp.Symbol('x')\n",
        "sp.integrate(3*x**2 +1 , x )"
      ],
      "metadata": {
        "colab": {
          "base_uri": "https://localhost:8080/",
          "height": 38
        },
        "id": "N28GOcPXPzNP",
        "outputId": "27f9c17b-f3c5-4855-bbe0-5642de13e3c8"
      },
      "execution_count": null,
      "outputs": [
        {
          "output_type": "execute_result",
          "data": {
            "text/latex": "$\\displaystyle x^{3} + x$",
            "text/plain": [
              "x**3 + x"
            ]
          },
          "metadata": {},
          "execution_count": 9
        }
      ]
    },
    {
      "cell_type": "code",
      "source": [],
      "metadata": {
        "id": "heO6Kuw2gdg8"
      },
      "execution_count": null,
      "outputs": []
    },
    {
      "cell_type": "markdown",
      "metadata": {
        "id": "OawRrJ4uiV9H"
      },
      "source": [
        "##### Analytical Integration example #2\n",
        "$𝑓(𝑥)=\\int {e^{-x^2}} dx$\n"
      ]
    },
    {
      "cell_type": "code",
      "source": [
        "import sympy as sp \n",
        "x = sp.Symbol(\"x\") \n",
        "sp.integrate(sp.exp(-x**2))"
      ],
      "metadata": {
        "colab": {
          "base_uri": "https://localhost:8080/",
          "height": 53
        },
        "id": "XUjd2eYz2Pik",
        "outputId": "810620e0-dcb6-40bc-e230-80242c160d14"
      },
      "execution_count": null,
      "outputs": [
        {
          "output_type": "execute_result",
          "data": {
            "text/latex": "$\\displaystyle \\frac{\\sqrt{\\pi} \\operatorname{erf}{\\left(x \\right)}}{2}$",
            "text/plain": [
              "sqrt(pi)*erf(x)/2"
            ]
          },
          "metadata": {},
          "execution_count": 3
        }
      ]
    },
    {
      "cell_type": "code",
      "source": [
        "import sympy as sp\n",
        "x=sp.Symbol('X')\n",
        "sp.integrate(sp.exp(-x**2))"
      ],
      "metadata": {
        "colab": {
          "base_uri": "https://localhost:8080/",
          "height": 53
        },
        "id": "a5-JrC-vE5yT",
        "outputId": "0818199c-6595-4e26-ce75-f76aa99f9370"
      },
      "execution_count": null,
      "outputs": [
        {
          "output_type": "execute_result",
          "data": {
            "text/latex": "$\\displaystyle \\frac{\\sqrt{\\pi} \\operatorname{erf}{\\left(X \\right)}}{2}$",
            "text/plain": [
              "sqrt(pi)*erf(X)/2"
            ]
          },
          "metadata": {},
          "execution_count": 2
        }
      ]
    },
    {
      "cell_type": "code",
      "source": [
        "\n",
        "import sympy as sp \n",
        "x= sp.Symbol(\"x\")\n",
        "sp.integrate(sp.exp(-x**2),x)"
      ],
      "metadata": {
        "colab": {
          "base_uri": "https://localhost:8080/",
          "height": 53
        },
        "id": "iK4XVCmzQV7O",
        "outputId": "3eb34d6f-a2af-489e-fea9-92cdfd0109e7"
      },
      "execution_count": null,
      "outputs": [
        {
          "output_type": "execute_result",
          "data": {
            "text/latex": "$\\displaystyle \\frac{\\sqrt{\\pi} \\operatorname{erf}{\\left(x \\right)}}{2}$",
            "text/plain": [
              "sqrt(pi)*erf(x)/2"
            ]
          },
          "metadata": {},
          "execution_count": 4
        }
      ]
    },
    {
      "cell_type": "code",
      "execution_count": null,
      "metadata": {
        "colab": {
          "base_uri": "https://localhost:8080/",
          "height": 53
        },
        "id": "VwPW4ARpiV9I",
        "outputId": "0e77d853-e4b2-41ef-f042-7d912ec3bdd5"
      },
      "outputs": [
        {
          "output_type": "execute_result",
          "data": {
            "text/latex": "$\\displaystyle \\frac{\\sqrt{\\pi} \\operatorname{erf}{\\left(x \\right)}}{2}$",
            "text/plain": [
              "sqrt(pi)*erf(x)/2"
            ]
          },
          "metadata": {},
          "execution_count": 5
        }
      ],
      "source": [
        "#Analytical Integration example #2\n",
        "sp.integrate(sp.exp(-x**2),x)"
      ]
    },
    {
      "cell_type": "markdown",
      "metadata": {
        "id": "zC2mesuOiV9I"
      },
      "source": [
        "##### Analytical Integration example #3\n",
        "$𝑓(𝑥)=\\int {\\sin{(3x)}} dx$"
      ]
    },
    {
      "cell_type": "code",
      "source": [
        "import sympy as sp\n",
        "x=sp.symbols(\"x\")\n",
        "sp.integrate(sp.sin(3*x),x)"
      ],
      "metadata": {
        "colab": {
          "base_uri": "https://localhost:8080/",
          "height": 53
        },
        "id": "MBWEtr10QuP2",
        "outputId": "923e5a5e-18bb-4d42-d128-6144a4c0a25c"
      },
      "execution_count": null,
      "outputs": [
        {
          "output_type": "execute_result",
          "data": {
            "text/plain": [
              "-cos(3*x)/3"
            ],
            "text/latex": "$\\displaystyle - \\frac{\\cos{\\left(3 x \\right)}}{3}$"
          },
          "metadata": {},
          "execution_count": 3
        }
      ]
    },
    {
      "cell_type": "code",
      "execution_count": null,
      "metadata": {
        "colab": {
          "base_uri": "https://localhost:8080/",
          "height": 38
        },
        "id": "aq7fdMxGiV9J",
        "outputId": "66029c4a-762a-4eb6-e986-af6cf195a970"
      },
      "outputs": [
        {
          "output_type": "execute_result",
          "data": {
            "text/latex": "$\\displaystyle - 0.333333333333333 \\cos{\\left(3.0 x \\right)}$",
            "text/plain": [
              "-0.333333333333333*cos(3.0*x)"
            ]
          },
          "metadata": {},
          "execution_count": 13
        }
      ],
      "source": [
        "#Analytical Integration example #3\n",
        "sp.integrate(sp.sin(3.0*x),x)"
      ]
    },
    {
      "cell_type": "markdown",
      "metadata": {
        "id": "LKktAJkRiV9J"
      },
      "source": [
        "##### Analytical Integration example #4\n",
        "$𝑓(𝑥)=\\int {e^{-x} \\sin{(3x)}} dx$"
      ]
    },
    {
      "cell_type": "code",
      "execution_count": null,
      "metadata": {
        "colab": {
          "base_uri": "https://localhost:8080/",
          "height": 38
        },
        "id": "hv48neSAiV9J",
        "outputId": "efb32d89-c70d-425d-d5cf-5ced9e8bec6d"
      },
      "outputs": [
        {
          "output_type": "execute_result",
          "data": {
            "text/latex": "$\\displaystyle - 0.1 e^{- x} \\sin{\\left(3.0 x \\right)} - 0.3 e^{- x} \\cos{\\left(3.0 x \\right)}$",
            "text/plain": [
              "-0.1*exp(-x)*sin(3.0*x) - 0.3*exp(-x)*cos(3.0*x)"
            ]
          },
          "metadata": {},
          "execution_count": 14
        }
      ],
      "source": [
        "#Analytical Integration example #4\n",
        "\n",
        "sp.integrate(sp.exp(-x)*sp.sin(3.0*x),x)"
      ]
    },
    {
      "cell_type": "markdown",
      "metadata": {
        "id": "B7xRjzGmiV9K"
      },
      "source": [
        "##### Analytical Integration exercise #1\n",
        "$𝑓(𝑥)=\\int {(3x^2+5)} dx$\n"
      ]
    },
    {
      "cell_type": "code",
      "source": [
        "f\n",
        "integrate(3*x**2 + 5)"
      ],
      "metadata": {
        "colab": {
          "base_uri": "https://localhost:8080/",
          "height": 130
        },
        "id": "g9IbDrDr229Z",
        "outputId": "c3e0958f-e096-4776-8011-eea5b3a0325d"
      },
      "execution_count": null,
      "outputs": [
        {
          "output_type": "error",
          "ename": "SyntaxError",
          "evalue": "ignored",
          "traceback": [
            "\u001b[0;36m  File \u001b[0;32m\"<ipython-input-4-d14aa0ccac69>\"\u001b[0;36m, line \u001b[0;32m1\u001b[0m\n\u001b[0;31m    from sympy as sp\u001b[0m\n\u001b[0m                ^\u001b[0m\n\u001b[0;31mSyntaxError\u001b[0m\u001b[0;31m:\u001b[0m invalid syntax\n"
          ]
        }
      ]
    },
    {
      "cell_type": "code",
      "execution_count": null,
      "metadata": {
        "id": "q2LtMoUViV9K",
        "colab": {
          "base_uri": "https://localhost:8080/",
          "height": 38
        },
        "outputId": "dda24632-dbc4-4394-8720-46c7c6dc3f72"
      },
      "outputs": [
        {
          "output_type": "execute_result",
          "data": {
            "text/latex": "$\\displaystyle x^{3} + 5 x$",
            "text/plain": [
              "x**3 + 5*x"
            ]
          },
          "metadata": {},
          "execution_count": 3
        }
      ],
      "source": [
        "#Analytical Integration exercise solution#1\n",
        "\n",
        "#write your code here\n",
        "import sympy as sp\n",
        "x=sp.Symbol('x')\n",
        "sp.integrate(3*x*x+5,x)\n"
      ]
    },
    {
      "cell_type": "markdown",
      "metadata": {
        "id": "u5y2qAnyiV9K"
      },
      "source": [
        "##### Analytical Integration exercise #2\n",
        "\n",
        "$𝑓(𝑥)=\\int e^{-|x|}dx$"
      ]
    },
    {
      "cell_type": "code",
      "source": [
        "import sympy as sp \n",
        "x = sp.Symbol('x') \n",
        "sp.integrate(sp.exp(-abs(x)), x)"
      ],
      "metadata": {
        "colab": {
          "base_uri": "https://localhost:8080/",
          "height": 55
        },
        "id": "GO7AGaWp3J4X",
        "outputId": "7941b268-4f9c-4358-f15b-dc320be5d60f"
      },
      "execution_count": null,
      "outputs": [
        {
          "output_type": "execute_result",
          "data": {
            "text/plain": [
              "Integral(exp(-Abs(x)), x)"
            ],
            "text/latex": "$\\displaystyle \\int e^{- \\left|{x}\\right|}\\, dx$"
          },
          "metadata": {},
          "execution_count": 4
        }
      ]
    },
    {
      "cell_type": "code",
      "source": [
        "sp.integrate(sp.exp(-abs(x)),x)"
      ],
      "metadata": {
        "colab": {
          "base_uri": "https://localhost:8080/",
          "height": 54
        },
        "id": "0xxJ5MzSQ81C",
        "outputId": "847a29bd-466e-43f1-f827-6d2f368cff77"
      },
      "execution_count": null,
      "outputs": [
        {
          "output_type": "execute_result",
          "data": {
            "text/latex": "$\\displaystyle \\int e^{- \\left|{x}\\right|}\\, dx$",
            "text/plain": [
              "Integral(exp(-Abs(x)), x)"
            ]
          },
          "metadata": {},
          "execution_count": 10
        }
      ]
    },
    {
      "cell_type": "code",
      "execution_count": null,
      "metadata": {
        "id": "XBd4Heh7iV9K",
        "colab": {
          "base_uri": "https://localhost:8080/",
          "height": 55
        },
        "outputId": "23752d4e-8b5d-4e76-8d33-43d86e087645"
      },
      "outputs": [
        {
          "output_type": "execute_result",
          "data": {
            "text/plain": [
              "Integral(exp(-Abs(x)), x)"
            ],
            "text/latex": "$\\displaystyle \\int e^{- \\left|{x}\\right|}\\, dx$"
          },
          "metadata": {},
          "execution_count": 6
        }
      ],
      "source": [
        "#Analytical Integration exercise solution#2 ?????@@@@@@NOT CORRECT##what to do????\n",
        "import sympy as sp\n",
        "x=sp.symbols('x')\n",
        "sp.integrate(sp.exp (-abs(x)),x)"
      ]
    },
    {
      "cell_type": "markdown",
      "metadata": {
        "id": "aK83YsQIiV9L"
      },
      "source": [
        "##### Analytical Integration exercise #3\n",
        "\n",
        "$𝑓(𝑥)=\\int e^{-x^2/2}dx$"
      ]
    },
    {
      "cell_type": "code",
      "source": [
        "import sympy as sp\n",
        "x=sp.Symbol('x')\n",
        "sp.integrate(sp.exp((-x**2)/2),x)"
      ],
      "metadata": {
        "id": "KDCKkSpPRpSx",
        "colab": {
          "base_uri": "https://localhost:8080/",
          "height": 66
        },
        "outputId": "9fd9b081-405b-4299-cceb-dacde78f20c8"
      },
      "execution_count": null,
      "outputs": [
        {
          "output_type": "execute_result",
          "data": {
            "text/plain": [
              "sqrt(2)*sqrt(pi)*erf(sqrt(2)*x/2)/2"
            ],
            "text/latex": "$\\displaystyle \\frac{\\sqrt{2} \\sqrt{\\pi} \\operatorname{erf}{\\left(\\frac{\\sqrt{2} x}{2} \\right)}}{2}$"
          },
          "metadata": {},
          "execution_count": 1
        }
      ]
    },
    {
      "cell_type": "code",
      "source": [
        "import sympy as sp\n",
        "x= sp.Symbol('x') \n",
        "sp.integrate(sp.exp(-x**2)/2,x)\n"
      ],
      "metadata": {
        "colab": {
          "base_uri": "https://localhost:8080/",
          "height": 54
        },
        "id": "Sr3hTAF3RXpF",
        "outputId": "903f2c9f-8d48-4a51-f89a-9e5faebcd2ac"
      },
      "execution_count": null,
      "outputs": [
        {
          "output_type": "execute_result",
          "data": {
            "text/plain": [
              "sqrt(pi)*erf(x)/4"
            ],
            "text/latex": "$\\displaystyle \\frac{\\sqrt{\\pi} \\operatorname{erf}{\\left(x \\right)}}{4}$"
          },
          "metadata": {},
          "execution_count": 2
        }
      ]
    },
    {
      "cell_type": "code",
      "execution_count": null,
      "metadata": {
        "id": "ANRrmJI3iV9L"
      },
      "outputs": [],
      "source": [
        "#Analytical Integration exercise solution#3\n",
        "\n",
        "#write your code here"
      ]
    },
    {
      "cell_type": "markdown",
      "metadata": {
        "id": "eWBWV3p7iV9L"
      },
      "source": [
        "### <http://wolframalpha.com/> is a method to find integration of more complex function"
      ]
    },
    {
      "cell_type": "markdown",
      "metadata": {
        "id": "TZYa7rhjiV9L"
      },
      "source": [
        "### Numerical Integration (Approximate) \n",
        "###### SciPy, a scientific library for Python is an open source, BSD-licensed library for mathematics, science and engineering. The SciPy library depends on NumPy, which provides convenient and fast N-dimensional array manipulation.  "
      ]
    },
    {
      "cell_type": "markdown",
      "metadata": {
        "id": "XqYKCjf7iV9M"
      },
      "source": [
        "## Using quad fuction\n",
        "The quad function returns the two values, in which the first number is the value of integral and the second value is the estimate of the absolute error in the value of integral. "
      ]
    },
    {
      "cell_type": "markdown",
      "metadata": {
        "id": "JQL-_UpkiV9M"
      },
      "source": [
        "##### Numerical Integration example #1\n",
        "$𝑓(𝑥)=\\int_{0}^{1.1} {(3x^2+1)}\\,\\, dx$\n"
      ]
    },
    {
      "cell_type": "code",
      "execution_count": null,
      "metadata": {
        "id": "2Q34Qm7LiV9M",
        "colab": {
          "base_uri": "https://localhost:8080/"
        },
        "outputId": "9d1bae56-1418-4dc3-ab52-b8fc96891ad5"
      },
      "outputs": [
        {
          "output_type": "stream",
          "name": "stdout",
          "text": [
            "(8.0, 8.881784197001252e-14)\n"
          ]
        }
      ],
      "source": [
        "#Numerical Integration example #1\n",
        "from scipy.integrate import *\n",
        "f= lambda x:(x)\n",
        "i = quad(f, 0, 4)\n",
        "print(i)"
      ]
    },
    {
      "cell_type": "code",
      "source": [
        "import scipy.integrate \n",
        "f = lambda x: (3*x**2 + 1) \n",
        "i = scipy.integrate.quad(f,0, 1.1)\n",
        "print(i)"
      ],
      "metadata": {
        "colab": {
          "base_uri": "https://localhost:8080/"
        },
        "id": "_Z2bB8Th4FAl",
        "outputId": "25e5d2d4-bbeb-48b5-dca2-4cf88ffd5082"
      },
      "execution_count": null,
      "outputs": [
        {
          "output_type": "stream",
          "name": "stdout",
          "text": [
            "(2.431000000000001, 2.6989521728637564e-14)\n"
          ]
        }
      ]
    },
    {
      "cell_type": "code",
      "source": [
        "import scipy.integrate\n",
        "s=lambda x:(3*x**2+1)\n",
        "i=scipy.integrate.quad(s,0,1.1)\n",
        "print(i)"
      ],
      "metadata": {
        "colab": {
          "base_uri": "https://localhost:8080/"
        },
        "id": "4OD3bDA1V4xB",
        "outputId": "7ec008a1-8845-4c50-f878-9298df7314a1"
      },
      "execution_count": null,
      "outputs": [
        {
          "output_type": "stream",
          "name": "stdout",
          "text": [
            "(2.431000000000001, 2.6989521728637564e-14)\n"
          ]
        }
      ]
    },
    {
      "cell_type": "code",
      "source": [
        "import scipy.integrate \n",
        "f= lambda x:(3*x**2+1)\n",
        "i = scipy.integrate.quad(f , 0, 1.1)\n",
        "print(i)"
      ],
      "metadata": {
        "colab": {
          "base_uri": "https://localhost:8080/"
        },
        "id": "mOjakeF2S719",
        "outputId": "214099d6-952f-4fdc-daab-721aa0cfd3d5"
      },
      "execution_count": null,
      "outputs": [
        {
          "output_type": "stream",
          "name": "stdout",
          "text": [
            "(2.431000000000001, 2.6989521728637564e-14)\n"
          ]
        }
      ]
    },
    {
      "cell_type": "code",
      "source": [
        "import scipy.integrate \n",
        "s= lambda x:(3*x**2+1) \n",
        "w= scipy.integrate.quad(s, 0, 1.1) \n",
        "print(w) \n",
        "type(w)"
      ],
      "metadata": {
        "colab": {
          "base_uri": "https://localhost:8080/"
        },
        "id": "n-56lX3NlYcz",
        "outputId": "1f4b1781-6cdf-49b5-a32a-9549e091ba3a"
      },
      "execution_count": null,
      "outputs": [
        {
          "output_type": "stream",
          "name": "stdout",
          "text": [
            "(2.431000000000001, 2.6989521728637564e-14)\n"
          ]
        },
        {
          "output_type": "execute_result",
          "data": {
            "text/plain": [
              "tuple"
            ]
          },
          "metadata": {},
          "execution_count": 25
        }
      ]
    },
    {
      "cell_type": "code",
      "source": [],
      "metadata": {
        "id": "_Zw20XTJ_W0b"
      },
      "execution_count": null,
      "outputs": []
    },
    {
      "cell_type": "markdown",
      "metadata": {
        "id": "F2E6jQAaiV9M"
      },
      "source": [
        "[link text](https://)####  !pip3 install scipy\n"
      ]
    },
    {
      "cell_type": "markdown",
      "metadata": {
        "id": "BxQ1b7lWiV9M"
      },
      "source": [
        "### In Python, an anonymous function is a function that is defined without a name.(lambda function)\n",
        "\n",
        "While normal functions are defined using the def keyword in Python, anonymous functions are defined using the lambda keyword.\n",
        "\n",
        "Hence, anonymous functions are also called lambda functions.\n",
        "\n",
        "Lambda functions can have any number of arguments but only one expression. The expression is evaluated and returned. Lambda functions can be used wherever function objects are required.\n"
      ]
    },
    {
      "cell_type": "code",
      "execution_count": null,
      "metadata": {
        "colab": {
          "base_uri": "https://localhost:8080/"
        },
        "id": "O-_sGjlAiV9N",
        "outputId": "9f704618-686b-4c24-ee40-d919284eef23"
      },
      "outputs": [
        {
          "output_type": "stream",
          "name": "stdout",
          "text": [
            "2.220446049250313e-14\n"
          ]
        }
      ],
      "source": [
        "import scipy.integrate\n",
        "f= lambda x:(3.0*x**2+1)\n",
        "i , err = scipy.integrate.quad(f, 0, 1)\n",
        "print (err)"
      ]
    },
    {
      "cell_type": "code",
      "source": [
        "import scipy.integrate\n",
        "f= lambda x:(3*x**2+1)\n",
        "i,err= scipy.integrate.quad(f,0,1.1)\n",
        "print(i)\n",
        "print(err)\n"
      ],
      "metadata": {
        "colab": {
          "base_uri": "https://localhost:8080/"
        },
        "id": "_MdGEkh_aWwV",
        "outputId": "1787d692-6b3d-40d9-d2ec-6371652b8f01"
      },
      "execution_count": null,
      "outputs": [
        {
          "output_type": "stream",
          "name": "stdout",
          "text": [
            "2.431000000000001\n",
            "2.6989521728637564e-14\n"
          ]
        }
      ]
    },
    {
      "cell_type": "code",
      "source": [],
      "metadata": {
        "id": "nAvqZ4LrZw_l"
      },
      "execution_count": null,
      "outputs": []
    },
    {
      "cell_type": "code",
      "source": [
        " import scipy.integrate \n",
        "f= lambda x:(3*x**2+1) \n",
        "i , err = scipy.integrate.quad(f , 0, 1) \n",
        "print(i)\n",
        "print(err)\n"
      ],
      "metadata": {
        "colab": {
          "base_uri": "https://localhost:8080/"
        },
        "id": "diU2y5GEUpGy",
        "outputId": "df878f58-4e64-408b-d8aa-e58ef131dd00"
      },
      "execution_count": null,
      "outputs": [
        {
          "output_type": "stream",
          "name": "stdout",
          "text": [
            "2.0\n",
            "2.220446049250313e-14\n"
          ]
        }
      ]
    },
    {
      "cell_type": "code",
      "source": [],
      "metadata": {
        "id": "0vSxjrWSnnFA"
      },
      "execution_count": null,
      "outputs": []
    },
    {
      "cell_type": "code",
      "execution_count": null,
      "metadata": {
        "colab": {
          "base_uri": "https://localhost:8080/"
        },
        "id": "EZl9AR1QiV9N",
        "outputId": "00b819cc-7f77-4e54-e714-189c597af603"
      },
      "outputs": [
        {
          "output_type": "stream",
          "name": "stdout",
          "text": [
            "2.220446049250313e-14\n"
          ]
        }
      ],
      "source": [
        " import scipy.integrate \n",
        "f= lambda x:(3.0*x**2+1)\n",
        "i  = scipy.integrate.quad(f, 0, 1)\n",
        "print(i[1])\n"
      ]
    },
    {
      "cell_type": "code",
      "source": [],
      "metadata": {
        "id": "OjCgPrBtq_E_"
      },
      "execution_count": null,
      "outputs": []
    },
    {
      "cell_type": "code",
      "source": [
        "f= lambda x:(3*x**2+1) \n",
        "i = scipy.integrate.quad(f,0,1)\n",
        "print(i)\n",
        "print(err)"
      ],
      "metadata": {
        "id": "ak6aIUF0py2l",
        "colab": {
          "base_uri": "https://localhost:8080/"
        },
        "outputId": "27b47277-6e67-4ced-995f-954d184f0373"
      },
      "execution_count": null,
      "outputs": [
        {
          "output_type": "stream",
          "name": "stdout",
          "text": [
            "(2.0, 2.220446049250313e-14)\n",
            "2.220446049250313e-14\n"
          ]
        }
      ]
    },
    {
      "cell_type": "code",
      "source": [
        "import scipy.integrate\n",
        "f=lambda x:(3*x**2+1)\n",
        "i=scipy.integrate.quad(f,0,1)\n",
        "print(i)\n",
        "print(i[1])"
      ],
      "metadata": {
        "colab": {
          "base_uri": "https://localhost:8080/"
        },
        "id": "dD05jCXAdjdr",
        "outputId": "639f824d-be77-4798-e8bd-3181d4d9ddfb"
      },
      "execution_count": null,
      "outputs": [
        {
          "output_type": "stream",
          "name": "stdout",
          "text": [
            "(2.0, 2.220446049250313e-14)\n",
            "2.220446049250313e-14\n"
          ]
        }
      ]
    },
    {
      "cell_type": "code",
      "execution_count": null,
      "metadata": {
        "colab": {
          "base_uri": "https://localhost:8080/"
        },
        "id": "pdAmCR1JiV9N",
        "outputId": "b9e32c71-d8ea-44f2-98bd-c9f11b56aab2"
      },
      "outputs": [
        {
          "output_type": "stream",
          "name": "stdout",
          "text": [
            "4.0\n",
            "13.0\n"
          ]
        }
      ],
      "source": [
        "#another method of defining function\n",
        "def f(x):\n",
        "    return 3.0*x**2 +1\n",
        "print (f(1.0))\n",
        "print(f(2))"
      ]
    },
    {
      "cell_type": "code",
      "source": [
        "def f(x): \n",
        "    return 3*x**2 +1 \n",
        "print (f(1)) \n",
        "print(f(2)) \n"
      ],
      "metadata": {
        "colab": {
          "base_uri": "https://localhost:8080/"
        },
        "id": "sSjstYBxYe80",
        "outputId": "d120eb79-8d91-4f5b-8aa8-4e1fb5186fdb"
      },
      "execution_count": null,
      "outputs": [
        {
          "output_type": "stream",
          "name": "stdout",
          "text": [
            "4\n",
            "13\n"
          ]
        }
      ]
    },
    {
      "cell_type": "code",
      "execution_count": null,
      "metadata": {
        "colab": {
          "base_uri": "https://localhost:8080/"
        },
        "id": "gOPhOBVOiV9N",
        "outputId": "7289a730-e334-4662-bc93-2f23250947cd"
      },
      "outputs": [
        {
          "output_type": "stream",
          "name": "stdout",
          "text": [
            "(2.0, 2.220446049250313e-14)\n"
          ]
        }
      ],
      "source": [
        "from scipy.integrate import quad\n",
        "def f(x):\n",
        "    return 3.0*x**2 +1\n",
        "i=quad(f,0,1)\n",
        "print(i)\n"
      ]
    },
    {
      "cell_type": "code",
      "source": [
        "def f(x):\n",
        "    return 3*x**2 +1 \n",
        "i,err=quad(f, 0, 1) \n",
        "print(i)\n",
        "print(err)"
      ],
      "metadata": {
        "colab": {
          "base_uri": "https://localhost:8080/"
        },
        "id": "dtxU2FGIZK6w",
        "outputId": "91f7066e-aa3e-4f9c-9962-ba5978559f0b"
      },
      "execution_count": null,
      "outputs": [
        {
          "output_type": "stream",
          "name": "stdout",
          "text": [
            "2.0\n",
            "2.220446049250313e-14\n"
          ]
        }
      ]
    },
    {
      "cell_type": "code",
      "execution_count": null,
      "metadata": {
        "colab": {
          "base_uri": "https://localhost:8080/"
        },
        "id": "c-EUBjC9iV9N",
        "outputId": "c5a96ef9-ec58-4827-91d7-e9073dbc520a"
      },
      "outputs": [
        {
          "output_type": "stream",
          "name": "stdout",
          "text": [
            "(10.000000000000002, 1.1102230246251568e-13)\n"
          ]
        }
      ],
      "source": [
        "\n",
        "def f(x):\n",
        "    return 3.0*x**2 +1\n",
        "i=quad(f,0,2)\n",
        "print(i)"
      ]
    },
    {
      "cell_type": "markdown",
      "metadata": {
        "id": "LX79C--3iV9N"
      },
      "source": [
        "##### Numerical Integration example #2\n",
        "$𝑓(𝑥)=\\int_{0}^{1}{e^{-x^2}} dx$\n"
      ]
    },
    {
      "cell_type": "code",
      "execution_count": null,
      "metadata": {
        "colab": {
          "base_uri": "https://localhost:8080/"
        },
        "id": "fq7MGhUOiV9O",
        "outputId": "89fa0e69-32fb-4594-e139-1c819221d7db"
      },
      "outputs": [
        {
          "output_type": "stream",
          "name": "stdout",
          "text": [
            "(0.7468241328124271, 8.291413475940725e-15)\n"
          ]
        }
      ],
      "source": [
        "#Numerical Integration example #2\n",
        "\n",
        "from numpy import exp\n",
        "f= lambda x:exp(-x**2)\n",
        "i = scipy.integrate.quad(f, 0, 1)\n",
        "print(i)"
      ]
    },
    {
      "cell_type": "code",
      "source": [
        "from numpy  import exp\n",
        "f=lambda x:exp(-x**2)\n",
        "i=scipy.integrate.quad(f,0,1)\n",
        "print(i)"
      ],
      "metadata": {
        "colab": {
          "base_uri": "https://localhost:8080/"
        },
        "id": "3dGilNSogXnp",
        "outputId": "4e02eb30-d79e-481a-eccc-cddd5cf71bd1"
      },
      "execution_count": null,
      "outputs": [
        {
          "output_type": "stream",
          "name": "stdout",
          "text": [
            "(0.7468241328124271, 8.291413475940725e-15)\n"
          ]
        }
      ]
    },
    {
      "cell_type": "code",
      "source": [
        "\n",
        "from numpy import exp \n",
        "f = lambda x:exp(-x**2) \n",
        "i = scipy.integrate.quad(f , 0, 2) \n",
        "print(i) "
      ],
      "metadata": {
        "id": "bRD8xLPwlT6m",
        "colab": {
          "base_uri": "https://localhost:8080/"
        },
        "outputId": "c58e508e-3b76-4310-b464-f899019e7338"
      },
      "execution_count": null,
      "outputs": [
        {
          "output_type": "stream",
          "name": "stdout",
          "text": [
            "(0.8820813907624215, 9.793070696178202e-15)\n"
          ]
        }
      ]
    },
    {
      "cell_type": "code",
      "source": [
        "from numpy import abs \n",
        "f= lambda x:abs(x) \n",
        "i = scipy.integrate.quad(f, -5, 5) \n",
        "print(i)"
      ],
      "metadata": {
        "colab": {
          "base_uri": "https://localhost:8080/"
        },
        "id": "WmcZaFlsoLsY",
        "outputId": "43da0f07-6154-47f0-9b02-edc68c31ad76"
      },
      "execution_count": null,
      "outputs": [
        {
          "output_type": "stream",
          "name": "stdout",
          "text": [
            "(25.0, 2.7711166694643907e-13)\n"
          ]
        }
      ]
    },
    {
      "cell_type": "code",
      "source": [
        "from numpy import abs,exp \n",
        "f=lambda x:exp(abs(x))\n",
        "i=scipy.integrate.quad(f,0,1)\n",
        "print(i)"
      ],
      "metadata": {
        "colab": {
          "base_uri": "https://localhost:8080/"
        },
        "id": "CB2efsjMhvg4",
        "outputId": "7595f0ea-808f-4bdc-d777-44b2b081cf57"
      },
      "execution_count": null,
      "outputs": [
        {
          "output_type": "stream",
          "name": "stdout",
          "text": [
            "(1.7182818284590453, 1.9076760487502457e-14)\n"
          ]
        }
      ]
    },
    {
      "cell_type": "code",
      "source": [
        " "
      ],
      "metadata": {
        "id": "Neg34E_knKBs"
      },
      "execution_count": null,
      "outputs": []
    },
    {
      "cell_type": "code",
      "source": [
        "from numpy import abs,exp \n",
        "f= lambda x:exp(abs(x)) \n",
        "i=scipy.integrate.quad(f,0,1) \n",
        "print(i)"
      ],
      "metadata": {
        "colab": {
          "base_uri": "https://localhost:8080/"
        },
        "id": "QsN4_DVNmybs",
        "outputId": "76ad4360-eb57-4f8d-ae8e-8a29eb85dcef"
      },
      "execution_count": null,
      "outputs": [
        {
          "output_type": "stream",
          "name": "stdout",
          "text": [
            "(1.7182818284590453, 1.9076760487502457e-14)\n"
          ]
        }
      ]
    },
    {
      "cell_type": "markdown",
      "metadata": {
        "id": "A9A3XAs8iV9O"
      },
      "source": [
        "##### Numerical Integration example #3\n",
        "$𝑓(𝑥)=\\int_{0}^{\\pi/3} {\\sin{(3x)}} dx $"
      ]
    },
    {
      "cell_type": "code",
      "source": [
        "import numpy\n",
        "from numpy import exp \n",
        "import scipy.integrate\n",
        "f= lambda x:numpy.sin(3*x) \n",
        "i= scipy.integrate.quad(f , 0,  numpy.pi/3) \n",
        "\n",
        "print (i)"
      ],
      "metadata": {
        "colab": {
          "base_uri": "https://localhost:8080/"
        },
        "id": "EWjMeoHlml-r",
        "outputId": "0a207b8a-5ea1-4374-9c18-43291d1b62c9"
      },
      "execution_count": null,
      "outputs": [
        {
          "output_type": "stream",
          "name": "stdout",
          "text": [
            "(0.6666666666666666, 7.401486830834376e-15)\n"
          ]
        }
      ]
    },
    {
      "cell_type": "code",
      "source": [
        "from numpy import sin\n",
        "\n",
        "f=lambda x:sin(3*x)\n",
        "i=scipy.integrate.quad(f,0,2)\n",
        "print(i)"
      ],
      "metadata": {
        "id": "SmqrN0Stjv_Q",
        "colab": {
          "base_uri": "https://localhost:8080/"
        },
        "outputId": "f5c6df76-f2b7-4730-9f79-317c80f2af57"
      },
      "execution_count": null,
      "outputs": [
        {
          "output_type": "stream",
          "name": "stdout",
          "text": [
            "(0.013276571116544685, 1.4692301238610943e-14)\n"
          ]
        }
      ]
    },
    {
      "cell_type": "code",
      "source": [
        "\n"
      ],
      "metadata": {
        "id": "40R8JYaYmaHr"
      },
      "execution_count": null,
      "outputs": []
    },
    {
      "cell_type": "code",
      "execution_count": null,
      "metadata": {
        "id": "VoD1ySoBiV9O",
        "colab": {
          "base_uri": "https://localhost:8080/"
        },
        "outputId": "324bab29-2ad6-400e-97f3-f07ced4d3f5f"
      },
      "outputs": [
        {
          "output_type": "stream",
          "name": "stdout",
          "text": [
            "0.6666666666666666\n",
            "(0.6666666666666666, 7.401486830834376e-15)\n"
          ]
        }
      ],
      "source": [
        "#Numerical Integration example #3\n",
        "\n",
        "\n"
      ]
    },
    {
      "cell_type": "code",
      "execution_count": null,
      "metadata": {
        "id": "VRaFhv92iV9O",
        "colab": {
          "base_uri": "https://localhost:8080/",
          "height": 234
        },
        "outputId": "83566629-788e-40bf-d6c5-45bc6daa469a"
      },
      "outputs": [
        {
          "output_type": "error",
          "ename": "AttributeError",
          "evalue": "ignored",
          "traceback": [
            "\u001b[0;31m---------------------------------------------------------------------------\u001b[0m",
            "\u001b[0;31mAttributeError\u001b[0m                            Traceback (most recent call last)",
            "\u001b[0;32m<ipython-input-1-639ed93c034a>\u001b[0m in \u001b[0;36m<module>\u001b[0;34m()\u001b[0m\n\u001b[1;32m      4\u001b[0m \u001b[0;32mdef\u001b[0m \u001b[0mf\u001b[0m\u001b[0;34m(\u001b[0m\u001b[0mx\u001b[0m\u001b[0;34m)\u001b[0m\u001b[0;34m:\u001b[0m\u001b[0;34m\u001b[0m\u001b[0;34m\u001b[0m\u001b[0m\n\u001b[1;32m      5\u001b[0m     \u001b[0;32mreturn\u001b[0m \u001b[0mnp\u001b[0m\u001b[0;34m.\u001b[0m\u001b[0msin\u001b[0m\u001b[0;34m(\u001b[0m\u001b[0;36m3.0\u001b[0m\u001b[0;34m*\u001b[0m\u001b[0mx\u001b[0m\u001b[0;34m)\u001b[0m\u001b[0;34m\u001b[0m\u001b[0;34m\u001b[0m\u001b[0m\n\u001b[0;32m----> 6\u001b[0;31m \u001b[0mi\u001b[0m\u001b[0;34m=\u001b[0m\u001b[0msp\u001b[0m\u001b[0;34m.\u001b[0m\u001b[0mintegrate\u001b[0m\u001b[0;34m.\u001b[0m\u001b[0mquad\u001b[0m\u001b[0;34m(\u001b[0m\u001b[0mf\u001b[0m\u001b[0;34m,\u001b[0m\u001b[0mnp\u001b[0m\u001b[0;34m.\u001b[0m\u001b[0mpi\u001b[0m\u001b[0;34m/\u001b[0m\u001b[0;36m3\u001b[0m\u001b[0;34m,\u001b[0m\u001b[0;36m0\u001b[0m\u001b[0;34m)\u001b[0m\u001b[0;34m\u001b[0m\u001b[0;34m\u001b[0m\u001b[0m\n\u001b[0m\u001b[1;32m      7\u001b[0m \u001b[0mprint\u001b[0m\u001b[0;34m(\u001b[0m\u001b[0mi\u001b[0m\u001b[0;34m[\u001b[0m\u001b[0;36m0\u001b[0m\u001b[0;34m]\u001b[0m\u001b[0;34m)\u001b[0m\u001b[0;34m\u001b[0m\u001b[0;34m\u001b[0m\u001b[0m\n\u001b[1;32m      8\u001b[0m \u001b[0mprint\u001b[0m\u001b[0;34m(\u001b[0m\u001b[0mi\u001b[0m\u001b[0;34m)\u001b[0m\u001b[0;34m\u001b[0m\u001b[0;34m\u001b[0m\u001b[0m\n",
            "\u001b[0;31mAttributeError\u001b[0m: module 'scipy' has no attribute 'integrate'"
          ]
        }
      ],
      "source": [
        "import numpy as np\n",
        "import scipy as sp\n",
        "\n",
        "def f(x):\n",
        "    return np.sin(3.0*x)\n",
        "i=sp.integrate.quad(f,np.pi/3,0)\n",
        "print(i[0])\n",
        "print(i)"
      ]
    },
    {
      "cell_type": "code",
      "source": [],
      "metadata": {
        "id": "eCfWVzmVp-60"
      },
      "execution_count": null,
      "outputs": []
    },
    {
      "cell_type": "markdown",
      "metadata": {
        "id": "4_9wEb_EiV9O"
      },
      "source": [
        "##### Numerical Integration example #4\n",
        "$𝑓(𝑥)=\\int_0^{2\\pi} {e^{-x} \\sin{(3x)}} dx$"
      ]
    },
    {
      "cell_type": "code",
      "execution_count": null,
      "metadata": {
        "id": "FnrPlHC-iV9P",
        "outputId": "5b50abfd-20f2-4b17-a3ab-9e95c290e2de",
        "colab": {
          "base_uri": "https://localhost:8080/"
        }
      },
      "outputs": [
        {
          "output_type": "stream",
          "name": "stdout",
          "text": [
            "0.29943976718048754\n"
          ]
        }
      ],
      "source": [
        "#Numerical Integration example #4\n",
        "from numpy import exp,abs,sin\n",
        "import scipy\n",
        "def f(x):\n",
        "    return numpy.exp(-x)*numpy.sin(3.0*x)\n",
        "i=scipy.integrate.quad(f,0,2*numpy.pi)\n",
        "print(i[0])"
      ]
    },
    {
      "cell_type": "code",
      "source": [],
      "metadata": {
        "id": "LFlPdoLSbhWQ"
      },
      "execution_count": null,
      "outputs": []
    },
    {
      "cell_type": "markdown",
      "metadata": {
        "id": "rndURdGgiV9P"
      },
      "source": [
        "##### Numerical Integration example #5\n",
        "$𝑓(𝑥)=\\int_{-\\infty}^\\infty {e^{-x^2} \\,} dx$"
      ]
    },
    {
      "cell_type": "code",
      "execution_count": null,
      "metadata": {
        "id": "y7toSX4FiV9P",
        "colab": {
          "base_uri": "https://localhost:8080/"
        },
        "outputId": "6eadfa2c-e809-4982-cf15-ebd18a8f5d21"
      },
      "outputs": [
        {
          "output_type": "stream",
          "name": "stdout",
          "text": [
            "numerical  = 1.7724538509055159 1.4202636780944923e-08\n",
            "analytical = 1.7724538509055159\n"
          ]
        }
      ],
      "source": [
        "#Numerical Integration example #5\n",
        "import numpy as np\n",
        "import scipy as sp\n",
        "\n",
        "val, abserr =sp.integrate.quad(lambda x: np.exp(-x ** 2), -np.Inf, np.Inf)\n",
        "\n",
        "print (\"numerical  =\", val, abserr)\n",
        "\n",
        "analytical = np.sqrt(np.pi)\n",
        "print (\"analytical =\", analytical)"
      ]
    },
    {
      "cell_type": "markdown",
      "metadata": {
        "id": "qXxRj2nCiV9P"
      },
      "source": [
        "help (scipy)"
      ]
    },
    {
      "cell_type": "markdown",
      "metadata": {
        "id": "MFjY4ozZiV9P"
      },
      "source": [
        "##### Numerical Integration exercise #1\n",
        "\n",
        "$𝑓(𝑥)=\\int_{-2}^{2} {(3x^{2}+5)}dx$"
      ]
    },
    {
      "cell_type": "code",
      "execution_count": null,
      "metadata": {
        "id": "aFDrqCWIiV9P",
        "colab": {
          "base_uri": "https://localhost:8080/"
        },
        "outputId": "053f4d9f-5194-4666-e311-1904026bad89"
      },
      "outputs": [
        {
          "output_type": "stream",
          "name": "stdout",
          "text": [
            "(36.0, 3.9968028886505635e-13)\n",
            "36.0\n"
          ]
        }
      ],
      "source": [
        "#Numerical Integration exercise solution#1\n",
        "#write your code here\n",
        "from scipy.integrate import quad\n",
        "def f(x):\n",
        "  return 3*x**2+5\n",
        "w=scipy.integrate.quad(f,-2,2)\n",
        "print(w)\n",
        "print(w[0])\n"
      ]
    },
    {
      "cell_type": "markdown",
      "metadata": {
        "id": "AQT8F4HeiV9Q"
      },
      "source": [
        "##### Numerical Integration exercise #2\n",
        "\n",
        "$𝑓(𝑥)=\\int_{-3}^{3} e^{-|x|}dx$"
      ]
    },
    {
      "cell_type": "code",
      "execution_count": null,
      "metadata": {
        "id": "yDJokhjViV9Q",
        "colab": {
          "base_uri": "https://localhost:8080/"
        },
        "outputId": "5228085b-150b-4135-e598-ac0d1aa78dae"
      },
      "outputs": [
        {
          "output_type": "stream",
          "name": "stdout",
          "text": [
            "1.900425863264272\n"
          ]
        }
      ],
      "source": [
        "#Numerical Integration exercise solution#2 limits from -3 to +3\n",
        "\n",
        "import numpy as np\n",
        "import scipy\n",
        "i,err=quad(lambda x:np.exp(-np.abs(x)),-3,3)\n",
        "print(i)"
      ]
    },
    {
      "cell_type": "markdown",
      "metadata": {
        "id": "TkmA0zEEiV9Q"
      },
      "source": [
        "##### Numerical Integration exercise #2 limits changed\n",
        "\n",
        "$𝑓(𝑥)=\\int_{0}^{\\infty} e^{-|x|}dx$"
      ]
    },
    {
      "cell_type": "code",
      "execution_count": null,
      "metadata": {
        "id": "bjRy9MmYiV9Q",
        "colab": {
          "base_uri": "https://localhost:8080/"
        },
        "outputId": "82ff97af-d57f-4730-c754-0c6edc107627"
      },
      "outputs": [
        {
          "output_type": "stream",
          "name": "stdout",
          "text": [
            "1.0000000000000002\n",
            "5.842606742906004e-11\n"
          ]
        }
      ],
      "source": [
        "#Numerical Integration exercise solution#2 limits from zero to infinity\n",
        "\n",
        "#write your code here\n",
        "from scipy.integrate import quad\n",
        "import numpy as np\n",
        "w,err=quad(lambda  x:np.exp(-np.abs(x)),0,np.Inf)\n",
        "print(w)\n",
        "print(err)\n"
      ]
    },
    {
      "cell_type": "markdown",
      "metadata": {
        "id": "KnSUPMSMiV9Q"
      },
      "source": [
        "##### Numerical Integration exercise #3\n",
        "\n",
        "$𝑓(𝑥)=\\int_{0}^{\\infty} e^{-x^2/2}dx$"
      ]
    },
    {
      "cell_type": "code",
      "execution_count": null,
      "metadata": {
        "id": "Jj9sv0b5iV9Q",
        "outputId": "2c9fb033-f199-43b5-c56b-272aca9a95a8",
        "colab": {
          "base_uri": "https://localhost:8080/"
        }
      },
      "outputs": [
        {
          "output_type": "stream",
          "name": "stdout",
          "text": [
            "1.900425863264272\n"
          ]
        }
      ],
      "source": [
        "#Numerical Integration exercise solution#3\n",
        "import numpy as np\n",
        "from scipy.integrate import quad\n",
        "def f(x):\n",
        "  return np.exp(-(x*x)/2)\n",
        "  i=quad(f,0,np.inf)\n",
        "print(i)  "
      ]
    },
    {
      "cell_type": "markdown",
      "metadata": {
        "id": "ZrBwL8QtiV9Q"
      },
      "source": [
        "# Riemann Sums"
      ]
    },
    {
      "cell_type": "code",
      "execution_count": null,
      "metadata": {
        "id": "EnCInMVYiV9R"
      },
      "outputs": [],
      "source": [
        "import numpy as np\n",
        "import matplotlib.pyplot as plt\n",
        "%matplotlib inline"
      ]
    },
    {
      "cell_type": "markdown",
      "metadata": {
        "id": "sWayt-juiV9R"
      },
      "source": [
        "##### Numerical Integration Rieman sum example #1\n",
        "$𝑓(𝑥)=\\int_{0}^{5} \\dfrac{1}{(1+x^2)}\\,\\, dx$"
      ]
    },
    {
      "cell_type": "code",
      "execution_count": null,
      "metadata": {
        "id": "8kE7mFE7iV9R",
        "colab": {
          "base_uri": "https://localhost:8080/",
          "height": 128
        },
        "outputId": "f220f6d8-510c-49b3-8b45-110f983848fa"
      },
      "outputs": [
        {
          "output_type": "display_data",
          "data": {
            "text/plain": [
              "<Figure size 1080x360 with 3 Axes>"
            ],
            "image/png": "[encoded data removed]"
          },
          "metadata": {
            "needs_background": "light"
          }
        }
      ],
      "source": [
        "\n",
        "import numpy as np\n",
        "import matplotlib.pyplot as plt\n",
        "%matplotlib inline\n",
        "f = lambda x : 1/(1+x**2)\n",
        "a = 0; b = 5; N = 10\n",
        "n = 10 # Use n*N+1 points to plot the function smoothly\n",
        "\n",
        "x = np.linspace(a,b,N+1)\n",
        "y = f(x)\n",
        "\n",
        "X = np.linspace(a,b,n*N+1)\n",
        "Y = f(X)\n",
        "\n",
        "plt.figure(figsize=(15,5))\n",
        "\n",
        "plt.subplot(1,3,1)\n",
        "plt.plot(X,Y,'b')\n",
        "x_left = x[:-1] # Left endpoints\n",
        "y_left = y[:-1]\n",
        "plt.plot(x_left,y_left,'b.',markersize=10)\n",
        "plt.bar(x_left,y_left,width=(b-a)/N,alpha=0.2,align='edge',edgecolor='b')\n",
        "plt.title('Left Riemann Sum, N = {}'.format(N))\n",
        "#print(y_left)\n",
        "plt.subplot(1,3,2)\n",
        "plt.plot(X,Y,'b')\n",
        "x_mid = (x[:-1] + x[1:])/2 # Midpoints\n",
        "y_mid = f(x_mid)\n",
        "plt.plot(x_mid,y_mid,'b.',markersize=10)\n",
        "plt.bar(x_mid,y_mid,width=(b-a)/N,alpha=0.2,edgecolor='b')\n",
        "plt.title('Midpoint Riemann Sum, N = {}'.format(N))\n",
        "\n",
        "plt.subplot(1,3,3)\n",
        "plt.plot(X,Y,'b')\n",
        "x_right = x[1:] # Left endpoints\n",
        "y_right = y[1:]\n",
        "plt.plot(x_right,y_right,'b.',markersize=10)\n",
        "plt.bar(x_right,y_right,width=-(b-a)/N,alpha=0.2,align='edge',edgecolor='b')\n",
        "plt.title('Right Riemann Sum, N = {}'.format(N))\n",
        "\n",
        "plt.show()"
      ]
    },
    {
      "cell_type": "markdown",
      "metadata": {
        "id": "wfBFTossiV9R"
      },
      "source": [
        "##### Numerical Integration Rieman sum example using Left,right and Midpoint Rieman comparison\n",
        "$𝑓(𝑥)=\\int_{0}^{5} \\dfrac{1}{(1+x^2)}\\,\\, dx$"
      ]
    },
    {
      "cell_type": "code",
      "execution_count": null,
      "metadata": {
        "id": "nZzlAcZ1iV9R",
        "colab": {
          "base_uri": "https://localhost:8080/"
        },
        "outputId": "47ed232e-6b55-45dc-f4f6-d4bfc1b4cc52"
      },
      "outputs": [
        {
          "output_type": "stream",
          "name": "stdout",
          "text": [
            "Partition with 10 subintervals.\n",
            "Left Riemann Sum: 1.613488696614725\n",
            "Midpoint Riemann Sum: 1.373543428316664\n",
            "Right Riemann Sum: 1.1327194658454942\n"
          ]
        }
      ],
      "source": [
        "dx = (b-a)/N\n",
        "x_left = np.linspace(a,b-dx,N)\n",
        "x_midpoint = np.linspace(dx/2,b - dx/2,N)\n",
        "x_right = np.linspace(dx,b,N)\n",
        "\n",
        "print(\"Partition with\",N,\"subintervals.\")\n",
        "left_riemann_sum = np.sum(f(x_left) * dx)\n",
        "print(\"Left Riemann Sum:\",left_riemann_sum)\n",
        "\n",
        "midpoint_riemann_sum = np.sum(f(x_midpoint) * dx)\n",
        "print(\"Midpoint Riemann Sum:\",midpoint_riemann_sum)\n",
        "\n",
        "right_riemann_sum = np.sum(f(x_right) * dx)\n",
        "print(\"Right Riemann Sum:\",right_riemann_sum)"
      ]
    },
    {
      "cell_type": "code",
      "execution_count": null,
      "metadata": {
        "id": "oQLlAwkNiV9R",
        "colab": {
          "base_uri": "https://localhost:8080/"
        },
        "outputId": "fd066963-7ae1-4b75-8a95-977ffe2eec56"
      },
      "outputs": [
        {
          "output_type": "stream",
          "name": "stdout",
          "text": [
            "\n",
            "Sum of list :  47.5\n"
          ]
        }
      ],
      "source": [
        "#np.sum(array)  example\n",
        "list1 = [30,2.5,10,5]   \n",
        "   \n",
        "print(\"\\nSum of list : \", np.sum(list1))  "
      ]
    },
    {
      "cell_type": "code",
      "execution_count": null,
      "metadata": {
        "id": "exPCRVYriV9S",
        "colab": {
          "base_uri": "https://localhost:8080/"
        },
        "outputId": "910eda20-b923-483c-d954-6c2eef7be342"
      },
      "outputs": [
        {
          "output_type": "stream",
          "name": "stdout",
          "text": [
            "(1.3734007669450166, 7.167069904541812e-09)\n"
          ]
        }
      ],
      "source": [
        "#Numerical Integration example #6 comparison using quad function\n",
        "def f(x):\n",
        "    return 1/(1+x**2)\n",
        "i=quad(f,0,5)\n",
        "print(i)"
      ]
    },
    {
      "cell_type": "code",
      "execution_count": null,
      "metadata": {
        "id": "3IJNQLXWiV9S",
        "colab": {
          "base_uri": "https://localhost:8080/",
          "height": 39
        },
        "outputId": "745c8ef5-bfc6-4336-a4d6-d1771ed98675"
      },
      "outputs": [
        {
          "output_type": "execute_result",
          "data": {
            "text/plain": [
              "atan(x)"
            ],
            "text/latex": "$\\displaystyle \\operatorname{atan}{\\left(x \\right)}$"
          },
          "metadata": {},
          "execution_count": 41
        }
      ],
      "source": [
        "#Analytical Integration example #6\n",
        "import sympy as sp\n",
        "x= sp.Symbol('x')\n",
        "sp.integrate(1/(1+x**2),x)"
      ]
    },
    {
      "cell_type": "code",
      "execution_count": null,
      "metadata": {
        "id": "vLkIsp-PiV9S",
        "colab": {
          "base_uri": "https://localhost:8080/"
        },
        "outputId": "96a59b19-8846-45b0-b28e-cc0be1608797"
      },
      "outputs": [
        {
          "output_type": "stream",
          "name": "stdout",
          "text": [
            "1.373400766945016\n"
          ]
        }
      ],
      "source": [
        "#Exact value of integration\n",
        "\n",
        "I=np.arctan(5)-np.arctan(0)\n",
        "print(I)"
      ]
    },
    {
      "cell_type": "code",
      "execution_count": null,
      "metadata": {
        "id": "C4O3pc6ciV9S",
        "colab": {
          "base_uri": "https://localhost:8080/"
        },
        "outputId": "180f608e-5226-44a1-8703-1b51442f10ba"
      },
      "outputs": [
        {
          "output_type": "stream",
          "name": "stdout",
          "text": [
            "Left Riemann Sum Error: 0.24008792966970915\n",
            "Midpoint Riemann Sum: 0.00014266137164820059\n",
            "Right Riemann Sum: 0.24068130109952168\n"
          ]
        }
      ],
      "source": [
        "print(\"Left Riemann Sum Error:\",np.abs(left_riemann_sum - I))\n",
        "print(\"Midpoint Riemann Sum:\",np.abs(midpoint_riemann_sum - I))\n",
        "print(\"Right Riemann Sum:\",np.abs(right_riemann_sum - I))"
      ]
    },
    {
      "cell_type": "markdown",
      "metadata": {
        "id": "0Iix6K94iV9S"
      },
      "source": [
        "# Trapezoid Rule"
      ]
    },
    {
      "cell_type": "markdown",
      "metadata": {
        "id": "cyl8BIYXiV9S"
      },
      "source": [
        "##### Numerical Integration Trapezoid rule example #1\n",
        "$𝑓(𝑥)=\\int_0^1 e^{-x^2}\\,\\, dx$"
      ]
    },
    {
      "cell_type": "code",
      "execution_count": null,
      "metadata": {
        "id": "TDH2xwUjiV9T",
        "colab": {
          "base_uri": "https://localhost:8080/",
          "height": 214
        },
        "outputId": "00917d62-2b7c-4143-b403-0e6d66909ca9"
      },
      "outputs": [
        {
          "output_type": "display_data",
          "data": {
            "text/plain": [
              "<Figure size 432x288 with 1 Axes>"
            ],
            "image/png": "[encoded data removed]"
          },
          "metadata": {
            "needs_background": "light"
          }
        }
      ],
      "source": [
        "x = np.linspace(-0.5,1.5,100)\n",
        "y = np.exp(-x**2)\n",
        "plt.plot(x,y)\n",
        "\n",
        "x0 = 0; x1 = 1;\n",
        "y0 = np.exp(-x0**2); y1 = np.exp(-x1**2);\n",
        "plt.fill_between([x0,x1],[y0,y1])\n",
        "\n",
        "plt.xlim([-0.5,1.5]); plt.ylim([0,1.5]);\n",
        "plt.show()"
      ]
    },
    {
      "cell_type": "markdown",
      "metadata": {
        "id": "74tIv8OYiV9T"
      },
      "source": [
        "##### Numerical Integration Trapezoid rule example #2\n",
        "$𝑓(𝑥)=\\int_0^{0.5} e^{-x^2}\\,\\, dx$"
      ]
    },
    {
      "cell_type": "code",
      "execution_count": null,
      "metadata": {
        "id": "N0IVrC3RiV9T",
        "colab": {
          "base_uri": "https://localhost:8080/",
          "height": 265
        },
        "outputId": "3a7b1a2a-a3cb-465b-e0dd-3540fa25e3c6"
      },
      "outputs": [
        {
          "output_type": "display_data",
          "data": {
            "image/png": "[encoded data removed]",
            "text/plain": [
              "<Figure size 432x288 with 1 Axes>"
            ]
          },
          "metadata": {
            "needs_background": "light"
          }
        }
      ],
      "source": [
        "x = np.linspace(-0.5,1.5,100)\n",
        "y = np.exp(-x**2)\n",
        "plt.plot(x,y)\n",
        "\n",
        "x0 = 0; x1 = 0.5;\n",
        "y0 = np.exp(-x0**2); y1 = np.exp(-x1**2);\n",
        "plt.fill_between([x0,x1],[y0,y1])\n",
        "\n",
        "plt.xlim([-0.5,1.5]); plt.ylim([0,1.5]);\n",
        "plt.show()\n"
      ]
    },
    {
      "cell_type": "code",
      "execution_count": null,
      "metadata": {
        "id": "ph_k1DQ0iV9T",
        "colab": {
          "base_uri": "https://localhost:8080/"
        },
        "outputId": "07c55aab-61e1-4265-a681-bffe702d3f13"
      },
      "outputs": [
        {
          "output_type": "stream",
          "name": "stdout",
          "text": [
            "Trapezoid area: 0.44470019576785125\n"
          ]
        }
      ],
      "source": [
        "A = 0.5*(y1 + y0)*(x1 - x0)\n",
        "print(\"Trapezoid area:\", A)"
      ]
    },
    {
      "cell_type": "markdown",
      "metadata": {
        "id": "xuw2ekWGiV9T"
      },
      "source": [
        "$\\int_a^b f(x) dx$ by the sum:\n",
        "    $(dx/2) \\sum_{k=1}^N (f(x_k) + f(x_{k-1}))$\n",
        "    where $x_k = a + k*dx$ and $dx = (b - a)/N.$"
      ]
    },
    {
      "cell_type": "code",
      "execution_count": null,
      "metadata": {
        "id": "KhDoSJA-iV9T",
        "colab": {
          "base_uri": "https://localhost:8080/",
          "height": 166
        },
        "outputId": "0f713b98-f7bd-4215-8ba0-abebbec1f3ee"
      },
      "outputs": [
        {
          "output_type": "error",
          "ename": "SyntaxError",
          "evalue": "ignored",
          "traceback": [
            "\u001b[0;36m  File \u001b[0;32m\"<ipython-input-4-e00327b0bcfe>\"\u001b[0;36m, line \u001b[0;32m28\u001b[0m\n\u001b[0;31m    def trapzz(f,a,b,N=50):\u001b[0m\n\u001b[0m                           ^\u001b[0m\n\u001b[0;31mSyntaxError\u001b[0m\u001b[0;31m:\u001b[0m unexpected EOF while parsing\n"
          ]
        }
      ],
      "source": [
        "def trapz(f,a,b,N=50):\n",
        "    '''Approximate the integral of f(x) from a to b by the trapezoid rule.\n",
        "\n",
        "    The trapezoid rule approximates the integral \\int_a^b f(x) dx by the sum:\n",
        "    (dx/2) \\sum_{k=1}^N (f(x_k) + f(x_{k-1}))\n",
        "    where x_k = a + k*dx and dx = (b - a)/N.\n",
        "\n",
        "    Parameters\n",
        "    ----------\n",
        "    f : function\n",
        "        Vectorized function of a single variable\n",
        "    a , b : numbers\n",
        "        Interval of integration [a,b]\n",
        "    N : integer\n",
        "        Number of subintervals of [a,b]\n",
        "\n",
        "    Returns\n",
        "    -------\n",
        "    float\n",
        "        Approximation of the integral of f(x) from a to b using the\n",
        "        trapezoid rule with N subintervals of equal length.\n",
        "\n",
        "    Examples\n",
        "    --------\n",
        "    >>> trapz(np.sin,0,np.pi/2,1000)\n",
        "    0.9999997943832332\n",
        "    '''\n",
        "    def trapzz(f,a,b,N=50):"
      ]
    },
    {
      "cell_type": "markdown",
      "metadata": {
        "id": "2VST6NWniV9T"
      },
      "source": [
        "###### Another method of writing equation for Trapezoidal method"
      ]
    },
    {
      "cell_type": "code",
      "execution_count": null,
      "metadata": {
        "id": "mSQXTX77iV9U"
      },
      "outputs": [],
      "source": [
        "def trapzz(f,a,b,N=50):\n",
        "    '''Approximate the integral of f(x) from a to b by the trapezoid rule.\n",
        "\n",
        "    The trapezoid rule approximates the integral \\int_a^b f(x) dx by the sum:\n",
        "    (dx/2) \\sum_{k=1}^N (f(x_k) + f(x_{k-1}))\n",
        "    where x_k = a + k*dx and dx = (b - a)/N.\n",
        "\n",
        "    Parameters\n",
        "    ----------\n",
        "    f : function\n",
        "        Vectorized function of a single variable\n",
        "    a , b : numbers\n",
        "        Interval of integration [a,b]\n",
        "    N : integer\n",
        "        Number of subintervals of [a,b]\n",
        "\n",
        "    Returns\n",
        "    -------\n",
        "    float\n",
        "        Approximation of the integral of f(x) from a to b using the\n",
        "        trapezoid rule with N subintervals of equal length.\n",
        "\n",
        "    Examples\n",
        "    --------\n",
        "    >>> trapz(np.sin,0,np.pi/2,1000)\n",
        "    0.9999997943832332\n",
        "    '''\n",
        "      # N+1 points make N subintervals\n",
        "    import numpy as np\n",
        "    x=np.linspace(a,b,N)\n",
        "    y = f(x)\n",
        "    dx = (b - a)/N\n",
        "    T = (dx/2) * (np.sum(2*y)-y[0]-y[-1])\n",
        "    return T"
      ]
    },
    {
      "cell_type": "code",
      "source": [],
      "metadata": {
        "id": "T0DAFGPBobR2"
      },
      "execution_count": null,
      "outputs": []
    },
    {
      "cell_type": "markdown",
      "metadata": {
        "id": "UAp2zXhwiV9U"
      },
      "source": [
        "##### Numerical Integration Trapezoid rule N=3\n",
        "$𝑓(𝑥)=\\int_{0}^{5} \\dfrac{1}{(1+x^2)}\\,\\, dx$"
      ]
    },
    {
      "cell_type": "code",
      "execution_count": null,
      "metadata": {
        "id": "YDAa5D1NiV9U",
        "outputId": "0e21c581-8ac6-4baa-de63-50fde8289c46",
        "colab": {
          "base_uri": "https://localhost:8080/",
          "height": 232
        }
      },
      "outputs": [
        {
          "output_type": "display_data",
          "data": {
            "text/plain": [
              "<Figure size 432x288 with 1 Axes>"
            ],
            "image/png": "[encoded data removed]"
          },
          "metadata": {
            "needs_background": "light"
          }
        }
      ],
      "source": [
        "f = lambda x :  1/(1+x**2)\n",
        "a = 0; b = 5; N = 3\n",
        "\n",
        "# x and y values for the trapezoid rule\n",
        "x = np.linspace(a,b,N+1)\n",
        "y = f(x)\n",
        "\n",
        "# X and Y values for plotting y=f(x)\n",
        "X = np.linspace(a,b,100)\n",
        "Y = f(X)\n",
        "plt.plot(X,Y)\n",
        "\n",
        "for i in range(N):\n",
        "    xs = [x[i],x[i],x[i+1],x[i+1]]\n",
        "    ys = [0,f(x[i]),f(x[i+1]),0]\n",
        "    plt.fill(xs,ys,'b',edgecolor='b',alpha=0.2)\n",
        "\n",
        "plt.title('Trapezoid Rule, N = {}'.format(N))\n",
        "plt.show()"
      ]
    },
    {
      "cell_type": "code",
      "execution_count": null,
      "metadata": {
        "id": "wPI0Eh3-iV9U",
        "outputId": "dc6357a3-88ff-4795-8b72-bbfd409e40f2",
        "colab": {
          "base_uri": "https://localhost:8080/"
        }
      },
      "outputs": [
        {
          "output_type": "execute_result",
          "data": {
            "text/plain": [
              "0.9989997941774106"
            ]
          },
          "metadata": {},
          "execution_count": 5
        }
      ],
      "source": [
        "import numpy as np\n",
        "trapzz(np.sin,0,np.pi/2,1000)"
      ]
    },
    {
      "cell_type": "code",
      "execution_count": null,
      "metadata": {
        "id": "tG4ha2A-iV9U"
      },
      "outputs": [],
      "source": [
        "trapzz(np.sin,0,np.pi/2,1000)"
      ]
    },
    {
      "cell_type": "code",
      "execution_count": null,
      "metadata": {
        "id": "Si_v_gSsiV9U",
        "colab": {
          "base_uri": "https://localhost:8080/"
        },
        "outputId": "ad242668-f048-414c-f18d-7a184d93a129"
      },
      "outputs": [
        {
          "output_type": "execute_result",
          "data": {
            "text/plain": [
              "0.9899792305433238"
            ]
          },
          "metadata": {},
          "execution_count": 7
        }
      ],
      "source": [
        "trapzz(np.sin,0,np.pi/2,100)"
      ]
    },
    {
      "cell_type": "code",
      "execution_count": null,
      "metadata": {
        "id": "ngSX3KoaiV9V",
        "colab": {
          "base_uri": "https://localhost:8080/"
        },
        "outputId": "ca09d1af-66ec-4ae5-844c-bac0d4c028d4"
      },
      "outputs": [
        {
          "output_type": "stream",
          "name": "stderr",
          "text": [
            "/usr/local/lib/python3.7/dist-packages/ipykernel_launcher.py:29: RuntimeWarning: divide by zero encountered in log\n",
            "/usr/local/lib/python3.7/dist-packages/ipykernel_launcher.py:31: RuntimeWarning: invalid value encountered in double_scalars\n"
          ]
        },
        {
          "output_type": "execute_result",
          "data": {
            "text/plain": [
              "nan"
            ]
          },
          "metadata": {},
          "execution_count": 53
        }
      ],
      "source": [
        "trapzz(np.log,2,np.pi/2,100)    ##natural logarithm"
      ]
    },
    {
      "cell_type": "code",
      "execution_count": null,
      "metadata": {
        "id": "2oz1-NEKiV9V",
        "colab": {
          "base_uri": "https://localhost:8080/"
        },
        "outputId": "faabd66f-a7a3-4f15-bc3b-bb8e9d5e2171"
      },
      "outputs": [
        {
          "output_type": "stream",
          "name": "stderr",
          "text": [
            "/usr/local/lib/python3.7/dist-packages/ipykernel_launcher.py:29: RuntimeWarning: divide by zero encountered in log10\n",
            "/usr/local/lib/python3.7/dist-packages/ipykernel_launcher.py:31: RuntimeWarning: invalid value encountered in double_scalars\n"
          ]
        },
        {
          "output_type": "execute_result",
          "data": {
            "text/plain": [
              "nan"
            ]
          },
          "metadata": {},
          "execution_count": 55
        }
      ],
      "source": [
        "trapzz(np.log10,2,np.pi/2,100)   ## logarithm to the base 10"
      ]
    },
    {
      "cell_type": "markdown",
      "metadata": {
        "id": "1JOto5BDiV9V"
      },
      "source": [
        "##### Numerical Integration Trapezoidal rule example \n",
        "$𝑓(𝑥)=\\int_0^{\\pi/2}{\\sin(x)} \\,dx$"
      ]
    },
    {
      "cell_type": "code",
      "execution_count": null,
      "metadata": {
        "id": "gvyA51VsiV9V",
        "colab": {
          "base_uri": "https://localhost:8080/"
        },
        "outputId": "a504add7-072f-4278-e9a0-559e1dec70bf"
      },
      "outputs": [
        {
          "output_type": "stream",
          "name": "stdout",
          "text": [
            "0.9999999999999999\n"
          ]
        },
        {
          "output_type": "execute_result",
          "data": {
            "text/plain": [
              "0.005111023434516242"
            ]
          },
          "metadata": {},
          "execution_count": 58
        }
      ],
      "source": [
        "import sympy as sp\n",
        "from scipy.integrate import quad\n",
        "def f(x):\n",
        "    return np.sin(x)\n",
        "i=scipy.integrate.quad(f,0,np.pi/2)\n",
        "print(i[0])\n",
        "trapzz(np.sin,0,np.pi/2,100)\n",
        "#trapz(np.sin,0,np.pi/2,1000)"
      ]
    },
    {
      "cell_type": "markdown",
      "metadata": {
        "id": "fqip1l87iV9V"
      },
      "source": [
        "##### Numerical Integration Trapezoidal rule example \n",
        "$𝑓(𝑥)=\\int_0^1{3x^2} \\,dx$"
      ]
    },
    {
      "cell_type": "code",
      "execution_count": null,
      "metadata": {
        "id": "qbM9-7wriV9V",
        "colab": {
          "base_uri": "https://localhost:8080/"
        },
        "outputId": "023057a3-2597-4f01-ee31-3e712d1360fc"
      },
      "outputs": [
        {
          "output_type": "execute_result",
          "data": {
            "text/plain": [
              "0.007916666666666667"
            ]
          },
          "metadata": {},
          "execution_count": 59
        }
      ],
      "source": [
        "#another method by using lambda function\n",
        "trapzz(lambda x : 3*x**2,0,1,10000)"
      ]
    },
    {
      "cell_type": "code",
      "execution_count": null,
      "metadata": {
        "id": "JO2pBD1diV9V",
        "colab": {
          "base_uri": "https://localhost:8080/"
        },
        "outputId": "7e37e458-c861-4980-9552-b3ff9e986fb6"
      },
      "outputs": [
        {
          "output_type": "execute_result",
          "data": {
            "text/plain": [
              "0.007916666666666667"
            ]
          },
          "metadata": {},
          "execution_count": 61
        }
      ],
      "source": [
        "#yet another method by defining function\n",
        "def f(x):\n",
        "    return 3*x**2\n",
        "trapzz(f,0,1,10000)"
      ]
    },
    {
      "cell_type": "code",
      "execution_count": null,
      "metadata": {
        "id": "6TZWVg3MiV9W",
        "colab": {
          "base_uri": "https://localhost:8080/"
        },
        "outputId": "8618fc1b-3041-442e-98a8-4e99d3a1e974"
      },
      "outputs": [
        {
          "output_type": "execute_result",
          "data": {
            "text/plain": [
              "0.075"
            ]
          },
          "metadata": {},
          "execution_count": 62
        }
      ],
      "source": [
        "trapzz(lambda x : x,0,1,100)"
      ]
    },
    {
      "cell_type": "markdown",
      "metadata": {
        "id": "ANTyEhrsiV9W"
      },
      "source": [
        "# Simpson's Rule"
      ]
    },
    {
      "cell_type": "markdown",
      "metadata": {
        "id": "QsMggB1biV9W"
      },
      "source": [
        "$\\int_a^b f(x) dx$  by the sum:\n",
        "    $(dx/3) \\sum_{k=1}^{N/2} (f(x_{2i-2} + 4f(x_{2i-1}) + f(x_{2i}))$ where $x_i = a + i*dx$ and $dx = (b - a)/N.$"
      ]
    },
    {
      "cell_type": "markdown",
      "metadata": {
        "id": "wlv5FoCriV9W"
      },
      "source": [
        "#### Simpson's rule uses a quadratic polynomial on each subinterval of a partition to approximate the function f(x) and to compute the definite integral. This is an improvement over the trapezoid rule which approximates f(x) by a straight line on each subinterval of a partition."
      ]
    },
    {
      "cell_type": "code",
      "execution_count": null,
      "metadata": {
        "id": "wOjTroOwiV9W"
      },
      "outputs": [],
      "source": [
        "def simps(f,a,b,N=50):\n",
        "    '''Approximate the integral of f(x) from a to b by Simpson's rule.\n",
        "\n",
        "    Simpson's rule approximates the integral \\int_a^b f(x) dx by the sum:\n",
        "    (dx/3) \\sum_{k=1}^{N/2} (f(x_{2i-2} + 4f(x_{2i-1}) + f(x_{2i}))\n",
        "    where x_i = a + i*dx and dx = (b - a)/N.\n",
        "\n",
        "    Parameters\n",
        "    ----------\n",
        "    f : function\n",
        "        Vectorized function of a single variable\n",
        "    a , b : numbers\n",
        "        Interval of integration [a,b]\n",
        "    N : (even) integer\n",
        "        Number of subintervals of [a,b]\n",
        "\n",
        "    Returns\n",
        "    -------\n",
        "    float\n",
        "        Approximation of the integral of f(x) from a to b using\n",
        "        Simpson's rule with N subintervals of equal length.\n",
        "\n",
        "    Examples\n",
        "    --------\n",
        "    >>> simps(lambda x : 3*x**2,0,1,10)\n",
        "    1.0\n",
        "    '''\n",
        "    if N % 2 == 1:\n",
        "        raise ValueError(\"N must be an even integer.\")\n",
        "    dx = (b-a)/N\n",
        "    x = np.linspace(a,b,N+1)\n",
        "    y = f(x)\n",
        "    S = dx/3 * np.sum(y[0:-1:2] + 4*y[1::2] + y[2::2])\n",
        "    return S"
      ]
    },
    {
      "cell_type": "markdown",
      "metadata": {
        "id": "bU6ZpiSdiV9W"
      },
      "source": [
        "##### Numerical Integration Simpson rule example \n",
        "$𝑓(𝑥)=\\int_0^1{3x^2} \\,dx$"
      ]
    },
    {
      "cell_type": "code",
      "execution_count": null,
      "metadata": {
        "id": "DlwrOrLxiV9W",
        "colab": {
          "base_uri": "https://localhost:8080/"
        },
        "outputId": "e0fc3da2-1453-44de-89f8-23cca4697e89"
      },
      "outputs": [
        {
          "output_type": "execute_result",
          "data": {
            "text/plain": [
              "1.0"
            ]
          },
          "metadata": {},
          "execution_count": 65
        }
      ],
      "source": [
        "simps(lambda x : 3*x**2,0,1,10)"
      ]
    },
    {
      "cell_type": "code",
      "execution_count": null,
      "metadata": {
        "id": "4aUyHZ2fiV9X",
        "colab": {
          "base_uri": "https://localhost:8080/"
        },
        "outputId": "40f22091-2653-483c-c58e-678697626726"
      },
      "outputs": [
        {
          "output_type": "execute_result",
          "data": {
            "text/plain": [
              "7.916666666666668"
            ]
          },
          "metadata": {},
          "execution_count": 67
        }
      ],
      "source": [
        "trapzz(lambda x : 3*x**2,0,1,10)"
      ]
    },
    {
      "cell_type": "markdown",
      "metadata": {
        "id": "LDHA3uK3iV9X"
      },
      "source": [
        "##### Numerical Integration Trapezoidal rule example \n",
        "$𝑓(𝑥)=\\int_0^{\\pi/2}{\\sin(x)} \\,dx$"
      ]
    },
    {
      "cell_type": "code",
      "execution_count": null,
      "metadata": {
        "id": "WQQJsj4uiV9X",
        "colab": {
          "base_uri": "https://localhost:8080/"
        },
        "outputId": "36b9aa7e-2a58-41f0-ea37-59a4c67ca4ec"
      },
      "outputs": [
        {
          "output_type": "execute_result",
          "data": {
            "text/plain": [
              "0.005111023434516242"
            ]
          },
          "metadata": {},
          "execution_count": 69
        }
      ],
      "source": [
        "trapzz(np.sin,0,np.pi/2,100)"
      ]
    },
    {
      "cell_type": "markdown",
      "metadata": {
        "id": "YLZdsDaQiV9X"
      },
      "source": [
        "##### Numerical Integration Simpson rule example \n",
        "$𝑓(𝑥)=\\int_0^{\\pi/2}{\\sin(x)} \\,dx$"
      ]
    },
    {
      "cell_type": "code",
      "execution_count": null,
      "metadata": {
        "id": "SD5Y-Nc-iV9X",
        "colab": {
          "base_uri": "https://localhost:8080/"
        },
        "outputId": "6acea23e-cfee-4dc3-e602-ddfd6593eee1"
      },
      "outputs": [
        {
          "output_type": "execute_result",
          "data": {
            "text/plain": [
              "1.000000000338236"
            ]
          },
          "metadata": {},
          "execution_count": 70
        }
      ],
      "source": [
        "simps(np.sin,0,np.pi/2,100)"
      ]
    },
    {
      "cell_type": "markdown",
      "metadata": {
        "id": "6JAp-Y4niV9X"
      },
      "source": [
        "##### Numerical Integration using quad function\n",
        "$𝑓(𝑥)=\\int_0^{\\pi/2}{\\sin{(x)}} \\,dx$"
      ]
    },
    {
      "cell_type": "code",
      "execution_count": null,
      "metadata": {
        "id": "T4gBW9PtiV9X",
        "colab": {
          "base_uri": "https://localhost:8080/"
        },
        "outputId": "c92a070e-73d1-4ae4-8237-4e239a887db8"
      },
      "outputs": [
        {
          "output_type": "stream",
          "name": "stdout",
          "text": [
            "(0.9999999999999999, 1.1102230246251564e-14)\n"
          ]
        }
      ],
      "source": [
        "from scipy.integrate import quad\n",
        "def f(x):\n",
        "    return np.sin(x)\n",
        "i=quad(f,0,np.pi/2)\n",
        "print(i)"
      ]
    },
    {
      "cell_type": "markdown",
      "metadata": {
        "id": "Avno-vB7iV9Y"
      },
      "source": [
        "##### quad          -- General purpose integration \n",
        "dblquad   -- General purpose double integration   \n",
        "tplquad       -- General purpose triple integration   \n",
        "nquad         -- General purpose n-dimensional integration"
      ]
    },
    {
      "cell_type": "markdown",
      "metadata": {
        "id": "JIUpnm-yiV9Y"
      },
      "source": [
        "# Analytical differentiation"
      ]
    },
    {
      "cell_type": "markdown",
      "metadata": {
        "id": "xiSo-kR1iV9Y"
      },
      "source": [
        "###### Analytical differentiation example #1\n",
        "$\\dfrac{d\\,}{dx} {(3x^2+1)}$"
      ]
    },
    {
      "cell_type": "code",
      "execution_count": null,
      "metadata": {
        "id": "D3T71yKJiV9Y",
        "colab": {
          "base_uri": "https://localhost:8080/",
          "height": 39
        },
        "outputId": "20954bef-f535-467a-f760-6646391c84a3"
      },
      "outputs": [
        {
          "output_type": "execute_result",
          "data": {
            "text/plain": [
              "6.0*x"
            ],
            "text/latex": "$\\displaystyle 6.0 x$"
          },
          "metadata": {},
          "execution_count": 6
        }
      ],
      "source": [
        "#Analytical differentiaion example #1\n",
        "\n",
        "x= sp.Symbol('x')\n",
        "sp.diff(3.0*x**2 +1,x)"
      ]
    },
    {
      "cell_type": "markdown",
      "metadata": {
        "id": "bWopR6JeiV9Y"
      },
      "source": [
        "###### Analytical differentiation example #2\n",
        "$\\dfrac{d\\,}{dx} {(e^{-x^2})}$"
      ]
    },
    {
      "cell_type": "code",
      "execution_count": null,
      "metadata": {
        "id": "P7hMUHqoiV9Y",
        "colab": {
          "base_uri": "https://localhost:8080/",
          "height": 41
        },
        "outputId": "a40dca3a-f066-4387-e0f6-29cb820cb31f"
      },
      "outputs": [
        {
          "output_type": "execute_result",
          "data": {
            "text/plain": [
              "-2*x*exp(-x**2)"
            ],
            "text/latex": "$\\displaystyle - 2 x e^{- x^{2}}$"
          },
          "metadata": {},
          "execution_count": 73
        }
      ],
      "source": [
        "#Analytical differentiaion example #2\n",
        "x=sp.Symbol('x')\n",
        "sp.diff(sp.exp(-x**2),x)"
      ]
    },
    {
      "cell_type": "markdown",
      "metadata": {
        "id": "dP0LBY6JiV9Y"
      },
      "source": [
        "###### Analytical differentiation example #3\n",
        "$\\dfrac{d\\,}{dx} {(\\sin{3x})}{}$"
      ]
    },
    {
      "cell_type": "code",
      "execution_count": null,
      "metadata": {
        "id": "w5HU8xFGiV9Y",
        "colab": {
          "base_uri": "https://localhost:8080/",
          "height": 39
        },
        "outputId": "eda0412d-1ef3-4b6e-f75d-eb23adb0eac7"
      },
      "outputs": [
        {
          "output_type": "execute_result",
          "data": {
            "text/plain": [
              "3.0*cos(3.0*x)"
            ],
            "text/latex": "$\\displaystyle 3.0 \\cos{\\left(3.0 x \\right)}$"
          },
          "metadata": {},
          "execution_count": 74
        }
      ],
      "source": [
        "#Analytical differentiaion example #3\n",
        "sp.Symbol('x')\n",
        "sp.diff(sp.sin(3.0*x),x)"
      ]
    },
    {
      "cell_type": "markdown",
      "metadata": {
        "id": "trT-zDH2iV9Z"
      },
      "source": [
        "###### Analytical differentiation example #4\n",
        "$\\dfrac{d\\,}{dx} {(e^{-x}\\sin{(3x)})}$"
      ]
    },
    {
      "cell_type": "code",
      "execution_count": null,
      "metadata": {
        "id": "4XNcM7HziV9Z",
        "colab": {
          "base_uri": "https://localhost:8080/",
          "height": 39
        },
        "outputId": "6f2e5ed5-1e28-45a0-a1d0-13c31d8e8be7"
      },
      "outputs": [
        {
          "output_type": "execute_result",
          "data": {
            "text/plain": [
              "-exp(-x)*sin(3.0*x) + 3.0*exp(-x)*cos(3.0*x)"
            ],
            "text/latex": "$\\displaystyle - e^{- x} \\sin{\\left(3.0 x \\right)} + 3.0 e^{- x} \\cos{\\left(3.0 x \\right)}$"
          },
          "metadata": {},
          "execution_count": 75
        }
      ],
      "source": [
        "#Analytical differentiation example #4\n",
        "\n",
        "sp.diff(sp.exp(-x)*sp.sin(3.0*x),x)"
      ]
    },
    {
      "cell_type": "markdown",
      "metadata": {
        "id": "KB9SW_LiiV9Z"
      },
      "source": [
        "# Numerical Differentiation"
      ]
    },
    {
      "cell_type": "code",
      "execution_count": null,
      "metadata": {
        "id": "ImZb_FgeiV9Z"
      },
      "outputs": [],
      "source": [
        "def derivative(f,a,method='central',h=0.01):\n",
        "    '''Compute the difference formula for f'(a) with step size h.\n",
        "\n",
        "    Parameters\n",
        "    ----------\n",
        "    f : function\n",
        "        Vectorized function of one variable\n",
        "    a : number\n",
        "        Compute derivative at x = a\n",
        "    method : string\n",
        "        Difference formula: 'forward', 'backward' or 'central'\n",
        "    h : number\n",
        "        Step size in difference formula\n",
        "\n",
        "    Returns\n",
        "    -------\n",
        "    float\n",
        "        Difference formula:\n",
        "            central: f(a+h) - f(a-h))/2h\n",
        "            forward: f(a+h) - f(a))/h\n",
        "            backward: f(a) - f(a-h))/h            \n",
        "    '''\n",
        "    if method == 'central':\n",
        "        return (f(a + h) - f(a - h))/(2*h)\n",
        "    elif method == 'forward':\n",
        "        return (f(a + h) - f(a))/h\n",
        "    elif method == 'backward':\n",
        "        return (f(a) - f(a - h))/h\n",
        "    else:\n",
        "        raise ValueError(\"Method must be 'central', 'forward' or 'backward'.\")\n"
      ]
    },
    {
      "cell_type": "markdown",
      "metadata": {
        "id": "sCIzS7iQiV9Z"
      },
      "source": [
        "$\\dfrac{d\\,}{dx} {(\\cos{x})}$ at   ${x=0}$"
      ]
    },
    {
      "cell_type": "code",
      "execution_count": null,
      "metadata": {
        "id": "86sNJ0QniV9Z",
        "colab": {
          "base_uri": "https://localhost:8080/"
        },
        "outputId": "4f410d24-1103-4f64-acbc-4ca6bd2cebab"
      },
      "outputs": [
        {
          "output_type": "execute_result",
          "data": {
            "text/plain": [
              "0.0"
            ]
          },
          "metadata": {},
          "execution_count": 91
        }
      ],
      "source": [
        "derivative(np.cos,0)"
      ]
    },
    {
      "cell_type": "markdown",
      "metadata": {
        "id": "3WSgYTNsiV9Z"
      },
      "source": [
        "$\\dfrac{d\\,}{dx} {(\\cos{x})}$ at   ${x=\\pi/2}$"
      ]
    },
    {
      "cell_type": "code",
      "execution_count": null,
      "metadata": {
        "id": "neNpBQq4iV9a",
        "colab": {
          "base_uri": "https://localhost:8080/",
          "height": 165
        },
        "outputId": "90387f08-cc02-44fc-b5c8-90d5c92b4a3f"
      },
      "outputs": [
        {
          "output_type": "error",
          "ename": "NameError",
          "evalue": "ignored",
          "traceback": [
            "\u001b[0;31m---------------------------------------------------------------------------\u001b[0m",
            "\u001b[0;31mNameError\u001b[0m                                 Traceback (most recent call last)",
            "\u001b[0;32m<ipython-input-2-be13bd0851ce>\u001b[0m in \u001b[0;36m<module>\u001b[0;34m()\u001b[0m\n\u001b[0;32m----> 1\u001b[0;31m \u001b[0mderivative\u001b[0m\u001b[0;34m(\u001b[0m\u001b[0mnp\u001b[0m\u001b[0;34m.\u001b[0m\u001b[0mcos\u001b[0m\u001b[0;34m,\u001b[0m\u001b[0mnp\u001b[0m\u001b[0;34m.\u001b[0m\u001b[0mpi\u001b[0m\u001b[0;34m/\u001b[0m\u001b[0;36m2\u001b[0m\u001b[0;34m)\u001b[0m\u001b[0;34m\u001b[0m\u001b[0;34m\u001b[0m\u001b[0m\n\u001b[0m",
            "\u001b[0;31mNameError\u001b[0m: name 'np' is not defined"
          ]
        }
      ],
      "source": [
        "derivative(np.cos,np.pi/2)"
      ]
    },
    {
      "cell_type": "code",
      "execution_count": null,
      "metadata": {
        "id": "2ZXwJl9piV9a"
      },
      "outputs": [],
      "source": []
    },
    {
      "cell_type": "markdown",
      "metadata": {
        "id": "QmzHL3UriV9a"
      },
      "source": [
        "$\\dfrac{d\\,}{dx} ({e^x})$ at   ${x=0}$"
      ]
    },
    {
      "cell_type": "code",
      "execution_count": null,
      "metadata": {
        "id": "DW1KBgD3iV9a"
      },
      "outputs": [],
      "source": [
        "diff(np.exp,0,h=0.0001)"
      ]
    },
    {
      "cell_type": "code",
      "execution_count": null,
      "metadata": {
        "id": "cXJA3DJJiV9a",
        "colab": {
          "base_uri": "https://localhost:8080/"
        },
        "outputId": "6344dd23-5e31-4515-bd0c-298ac5f78d1b"
      },
      "outputs": [
        {
          "output_type": "execute_result",
          "data": {
            "text/plain": [
              "1.0000166667499921"
            ]
          },
          "metadata": {},
          "execution_count": 108
        }
      ],
      "source": [
        "derivative(np.exp,0,h=0.01)"
      ]
    },
    {
      "cell_type": "code",
      "execution_count": null,
      "metadata": {
        "id": "xdWfVZXwiV9a",
        "colab": {
          "base_uri": "https://localhost:8080/"
        },
        "outputId": "0de1d168-7798-49b6-c275-16acaa36d514"
      },
      "outputs": [
        {
          "output_type": "execute_result",
          "data": {
            "text/plain": [
              "1.001667500198441"
            ]
          },
          "metadata": {},
          "execution_count": 107
        }
      ],
      "source": [
        "derivative(np.exp,0,h=0.1)"
      ]
    },
    {
      "cell_type": "markdown",
      "metadata": {
        "id": "f_CFXQKZiV9a"
      },
      "source": [
        "$\\dfrac{d\\,}{dx} (\\sqrt{x})$ at   ${x=1}$"
      ]
    },
    {
      "cell_type": "code",
      "execution_count": null,
      "metadata": {
        "id": "MVifUNChiV9b",
        "colab": {
          "base_uri": "https://localhost:8080/"
        },
        "outputId": "5b5fcc9c-e6cc-4f4e-8a2a-59005aa5cd34"
      },
      "outputs": [
        {
          "output_type": "execute_result",
          "data": {
            "text/plain": [
              "0.5000062502734492"
            ]
          },
          "metadata": {},
          "execution_count": 109
        }
      ],
      "source": [
        "derivative(np.sqrt,1)"
      ]
    },
    {
      "cell_type": "markdown",
      "metadata": {
        "id": "64blcRZZiV9b"
      },
      "source": [
        "###### Numerical differentiaion example #1 \n",
        "$\\dfrac{d\\,}{dx} ({3x^2+1})$ at   ${x=1}$"
      ]
    },
    {
      "cell_type": "code",
      "execution_count": null,
      "metadata": {
        "id": "9urDlVPBiV9b",
        "colab": {
          "base_uri": "https://localhost:8080/"
        },
        "outputId": "adfe83b2-b0b1-4c7b-995c-06a313c41e1e"
      },
      "outputs": [
        {
          "output_type": "execute_result",
          "data": {
            "text/plain": [
              "6.000000000000005"
            ]
          },
          "metadata": {},
          "execution_count": 94
        }
      ],
      "source": [
        "#Numerical differentiaion example #1\n",
        "\n",
        "def f(x):\n",
        "    return 3.0*x**2+1\n",
        "derivative(f,1)"
      ]
    },
    {
      "cell_type": "markdown",
      "metadata": {
        "id": "7KGNbHmmiV9b"
      },
      "source": [
        "###### Numerical differentiaion example #2 \n",
        "$\\dfrac{d\\,}{dx} ({e^{-x^2}})$ at   ${x=1}$"
      ]
    },
    {
      "cell_type": "code",
      "execution_count": null,
      "metadata": {
        "id": "c1SSWFIziV9b",
        "colab": {
          "base_uri": "https://localhost:8080/",
          "height": 208
        },
        "outputId": "1d29602c-77b7-459e-b78d-ab776b5e5771"
      },
      "outputs": [
        {
          "output_type": "error",
          "ename": "NameError",
          "evalue": "ignored",
          "traceback": [
            "\u001b[0;31m---------------------------------------------------------------------------\u001b[0m",
            "\u001b[0;31mNameError\u001b[0m                                 Traceback (most recent call last)",
            "\u001b[0;32m<ipython-input-1-4e82de249ed8>\u001b[0m in \u001b[0;36m<module>\u001b[0;34m()\u001b[0m\n\u001b[1;32m      2\u001b[0m \u001b[0;32mdef\u001b[0m \u001b[0mf\u001b[0m\u001b[0;34m(\u001b[0m\u001b[0mx\u001b[0m\u001b[0;34m)\u001b[0m\u001b[0;34m:\u001b[0m\u001b[0;34m\u001b[0m\u001b[0;34m\u001b[0m\u001b[0m\n\u001b[1;32m      3\u001b[0m   \u001b[0;32mreturn\u001b[0m \u001b[0mnp\u001b[0m\u001b[0;34m.\u001b[0m\u001b[0mexp\u001b[0m\u001b[0;34m(\u001b[0m\u001b[0;34m-\u001b[0m\u001b[0mx\u001b[0m\u001b[0;34m**\u001b[0m\u001b[0;36m2\u001b[0m\u001b[0;34m)\u001b[0m\u001b[0;34m\u001b[0m\u001b[0;34m\u001b[0m\u001b[0m\n\u001b[0;32m----> 4\u001b[0;31m \u001b[0mderivative\u001b[0m \u001b[0;34m(\u001b[0m\u001b[0mf\u001b[0m\u001b[0;34m,\u001b[0m\u001b[0;36m1\u001b[0m\u001b[0;34m)\u001b[0m\u001b[0;34m\u001b[0m\u001b[0;34m\u001b[0m\u001b[0m\n\u001b[0m",
            "\u001b[0;31mNameError\u001b[0m: name 'derivative' is not defined"
          ]
        }
      ],
      "source": [
        "#Numerical differentiaion example #2\n",
        "def f(x):\n",
        "  return np.exp(-x**2)\n",
        "derivative (f,1)"
      ]
    },
    {
      "cell_type": "code",
      "source": [
        "import sympy as sp\n",
        "sp.derivative (np.exp(-x**2),1)"
      ],
      "metadata": {
        "id": "mCJ3jtveg2-2"
      },
      "execution_count": null,
      "outputs": []
    },
    {
      "cell_type": "markdown",
      "metadata": {
        "id": "IArJy_z0iV9b"
      },
      "source": [
        "###### Numerical differentiaion example #3\n",
        "$\\dfrac{d\\,}{dx} {(\\sin{(3x)})}$ at   ${x=0}$"
      ]
    },
    {
      "cell_type": "code",
      "execution_count": null,
      "metadata": {
        "id": "29kj0FEciV9b",
        "colab": {
          "base_uri": "https://localhost:8080/",
          "height": 208
        },
        "outputId": "7f7b17b8-e776-4300-e353-5d207495a39b"
      },
      "outputs": [
        {
          "output_type": "error",
          "ename": "NameError",
          "evalue": "ignored",
          "traceback": [
            "\u001b[0;31m---------------------------------------------------------------------------\u001b[0m",
            "\u001b[0;31mNameError\u001b[0m                                 Traceback (most recent call last)",
            "\u001b[0;32m<ipython-input-2-d90b3a8b839e>\u001b[0m in \u001b[0;36m<module>\u001b[0;34m()\u001b[0m\n\u001b[1;32m      2\u001b[0m \u001b[0;32mdef\u001b[0m \u001b[0mf\u001b[0m\u001b[0;34m(\u001b[0m\u001b[0mx\u001b[0m\u001b[0;34m)\u001b[0m\u001b[0;34m:\u001b[0m\u001b[0;34m\u001b[0m\u001b[0;34m\u001b[0m\u001b[0m\n\u001b[1;32m      3\u001b[0m     \u001b[0;32mreturn\u001b[0m \u001b[0mnp\u001b[0m\u001b[0;34m.\u001b[0m\u001b[0msin\u001b[0m\u001b[0;34m(\u001b[0m\u001b[0;36m3.0\u001b[0m\u001b[0;34m*\u001b[0m\u001b[0mx\u001b[0m\u001b[0;34m)\u001b[0m\u001b[0;34m\u001b[0m\u001b[0;34m\u001b[0m\u001b[0m\n\u001b[0;32m----> 4\u001b[0;31m \u001b[0mderivative\u001b[0m \u001b[0;34m(\u001b[0m\u001b[0mf\u001b[0m\u001b[0;34m,\u001b[0m\u001b[0;36m0\u001b[0m\u001b[0;34m)\u001b[0m\u001b[0;34m\u001b[0m\u001b[0;34m\u001b[0m\u001b[0m\n\u001b[0m",
            "\u001b[0;31mNameError\u001b[0m: name 'derivative' is not defined"
          ]
        }
      ],
      "source": [
        "#Numerical differentiaion example #3 derivative at x=0\n",
        "def f(x):\n",
        "    return np.sin(3.0*x)\n",
        "derivative (f,0)"
      ]
    },
    {
      "cell_type": "markdown",
      "metadata": {
        "id": "YF_Xf7VdiV9c"
      },
      "source": [
        "##### Numerical differentiaion example 3 \n",
        "$\\dfrac{d\\,}{dx} {(\\sin{(3x)})}$ at   ${x=\\pi}$"
      ]
    },
    {
      "cell_type": "code",
      "execution_count": null,
      "metadata": {
        "id": "0mlmIXaKiV9c",
        "colab": {
          "base_uri": "https://localhost:8080/"
        },
        "outputId": "9019fc2d-947e-4862-8052-fd8b099cf706"
      },
      "outputs": [
        {
          "output_type": "execute_result",
          "data": {
            "text/plain": [
              "-2.9995500202495022"
            ]
          },
          "metadata": {},
          "execution_count": 96
        }
      ],
      "source": [
        "#Numerical differentiaion example #3 derivative at x=pi\n",
        "def f(x):\n",
        "    return np.sin(3.0*x)\n",
        "derivative (f,np.pi)"
      ]
    },
    {
      "cell_type": "markdown",
      "metadata": {
        "id": "ymRM8zqxiV9c"
      },
      "source": [
        "#### Numerical differentiaion example #3 \n",
        "$\\dfrac{d\\,}{dx} {(\\sin{(3x)})}$ at   ${x=\\pi/2}$"
      ]
    },
    {
      "cell_type": "code",
      "execution_count": null,
      "metadata": {
        "id": "oKIERAa6iV9c",
        "colab": {
          "base_uri": "https://localhost:8080/",
          "height": 207
        },
        "outputId": "f64d908b-d62d-4790-8847-05f08b298cea"
      },
      "outputs": [
        {
          "output_type": "error",
          "ename": "NameError",
          "evalue": "ignored",
          "traceback": [
            "\u001b[0;31m---------------------------------------------------------------------------\u001b[0m",
            "\u001b[0;31mNameError\u001b[0m                                 Traceback (most recent call last)",
            "\u001b[0;32m<ipython-input-2-67fb1c66d2b5>\u001b[0m in \u001b[0;36m<module>\u001b[0;34m()\u001b[0m\n\u001b[1;32m      2\u001b[0m \u001b[0;32mdef\u001b[0m \u001b[0mf\u001b[0m\u001b[0;34m(\u001b[0m\u001b[0mx\u001b[0m\u001b[0;34m)\u001b[0m\u001b[0;34m:\u001b[0m\u001b[0;34m\u001b[0m\u001b[0;34m\u001b[0m\u001b[0m\n\u001b[1;32m      3\u001b[0m     \u001b[0;32mreturn\u001b[0m \u001b[0mnp\u001b[0m\u001b[0;34m.\u001b[0m\u001b[0msin\u001b[0m\u001b[0;34m(\u001b[0m\u001b[0;36m3.0\u001b[0m\u001b[0;34m*\u001b[0m\u001b[0mx\u001b[0m\u001b[0;34m)\u001b[0m\u001b[0;34m\u001b[0m\u001b[0;34m\u001b[0m\u001b[0m\n\u001b[0;32m----> 4\u001b[0;31m \u001b[0mderivative\u001b[0m \u001b[0;34m(\u001b[0m\u001b[0mf\u001b[0m\u001b[0;34m,\u001b[0m\u001b[0mnp\u001b[0m\u001b[0;34m.\u001b[0m\u001b[0mpi\u001b[0m\u001b[0;34m/\u001b[0m\u001b[0;36m2\u001b[0m\u001b[0;34m)\u001b[0m\u001b[0;34m\u001b[0m\u001b[0;34m\u001b[0m\u001b[0m\n\u001b[0m",
            "\u001b[0;31mNameError\u001b[0m: name 'derivative' is not defined"
          ]
        }
      ],
      "source": [
        "#Numerical differentiaion example #3 derivative at x=pi/2\n",
        "def f(x):\n",
        "    return np.sin(3.0*x)\n",
        "derivative (f,np.pi/2)"
      ]
    },
    {
      "cell_type": "markdown",
      "source": [],
      "metadata": {
        "id": "928pxqfeq2Q7"
      }
    },
    {
      "cell_type": "code",
      "execution_count": null,
      "metadata": {
        "id": "AYIkoZ1aiV9c",
        "colab": {
          "base_uri": "https://localhost:8080/"
        },
        "outputId": "89d4d74c-a50c-4dd1-b53a-194317de01ad"
      },
      "outputs": [
        {
          "output_type": "stream",
          "name": "stdout",
          "text": [
            "-2.9995500202495022\n",
            "-2.9995500202495022\n",
            "-2.9995500202495022\n"
          ]
        }
      ],
      "source": [
        "#comparison of different methods\n",
        "import numpy as np\n",
        "def f(x):\n",
        "    return np.sin(3.0*x)\n",
        "print(derivative (f,np.pi,method='central',h=0.01))\n",
        "print(derivative (f,np.pi,method='forward',h=0.01))\n",
        "print(derivative (f,np.pi,method='backward',h=0.01))"
      ]
    },
    {
      "cell_type": "markdown",
      "metadata": {
        "id": "j4Q_QsxEiV9c"
      },
      "source": [
        "###### Numerical differentiaion example #4\n",
        "$\\dfrac{d\\,}{dx} {(e^{-x}\\sin{(3x)})}$ at   ${x=0}$"
      ]
    },
    {
      "cell_type": "code",
      "execution_count": null,
      "metadata": {
        "id": "eLBMdRJbiV9c",
        "colab": {
          "base_uri": "https://localhost:8080/",
          "height": 37
        },
        "outputId": "cc88e292-46b0-46d4-fe81-bc02a627d5e9"
      },
      "outputs": [
        {
          "output_type": "execute_result",
          "data": {
            "text/plain": [
              "2.99969999900039"
            ],
            "text/latex": "$\\displaystyle 2.99969999900039$"
          },
          "metadata": {},
          "execution_count": 98
        }
      ],
      "source": [
        "#Numerical differentiaion example #4 derivative at x=0\n",
        "def f(x):\n",
        "    return np.exp(-x)*sp.sin(3.0*x)\n",
        "derivative(f,0)"
      ]
    },
    {
      "cell_type": "markdown",
      "metadata": {
        "id": "1uQrvDlFiV9d"
      },
      "source": [
        "###### Numerical differentiaion example #4\n",
        "$\\dfrac{d\\,}{dx} {(e^{-x}\\sin{(3x)})}$ at   ${x=\\pi}$"
      ]
    },
    {
      "cell_type": "code",
      "source": [
        "import numpy as np\n",
        "from sympy import *\n",
        "def f(x):\n",
        "  return np.exp(-x)*sin(3*x)\n",
        "diff(f,np.pi)"
      ],
      "metadata": {
        "id": "ZxtXZvd4gMl9",
        "colab": {
          "base_uri": "https://localhost:8080/",
          "height": 663
        },
        "outputId": "48ac9f6e-1f8b-45b8-dd71-88704d22888c"
      },
      "execution_count": null,
      "outputs": [
        {
          "output_type": "stream",
          "name": "stderr",
          "text": [
            "/usr/local/lib/python3.7/dist-packages/sympy/core/sympify.py:463: SymPyDeprecationWarning: \n",
            "\n",
            "String fallback in sympify has been deprecated since SymPy 1.6. Use\n",
            "sympify(str(obj)) or sympy.core.sympify.converter or obj._sympy_\n",
            "instead. See https://github.com/sympy/sympy/issues/18066 for more\n",
            "info.\n",
            "\n",
            "  deprecated_since_version='1.6'\n"
          ]
        },
        {
          "output_type": "error",
          "ename": "SympifyError",
          "evalue": "ignored",
          "traceback": [
            "\u001b[0;31m---------------------------------------------------------------------------\u001b[0m",
            "\u001b[0;31mSyntaxError\u001b[0m                               Traceback (most recent call last)",
            "\u001b[0;32m/usr/local/lib/python3.7/dist-packages/sympy/core/sympify.py\u001b[0m in \u001b[0;36msympify\u001b[0;34m(a, locals, convert_xor, strict, rational, evaluate)\u001b[0m\n\u001b[1;32m    479\u001b[0m         \u001b[0ma\u001b[0m \u001b[0;34m=\u001b[0m \u001b[0ma\u001b[0m\u001b[0;34m.\u001b[0m\u001b[0mreplace\u001b[0m\u001b[0;34m(\u001b[0m\u001b[0;34m'\\n'\u001b[0m\u001b[0;34m,\u001b[0m \u001b[0;34m''\u001b[0m\u001b[0;34m)\u001b[0m\u001b[0;34m\u001b[0m\u001b[0;34m\u001b[0m\u001b[0m\n\u001b[0;32m--> 480\u001b[0;31m         \u001b[0mexpr\u001b[0m \u001b[0;34m=\u001b[0m \u001b[0mparse_expr\u001b[0m\u001b[0;34m(\u001b[0m\u001b[0ma\u001b[0m\u001b[0;34m,\u001b[0m \u001b[0mlocal_dict\u001b[0m\u001b[0;34m=\u001b[0m\u001b[0mlocals\u001b[0m\u001b[0;34m,\u001b[0m \u001b[0mtransformations\u001b[0m\u001b[0;34m=\u001b[0m\u001b[0mtransformations\u001b[0m\u001b[0;34m,\u001b[0m \u001b[0mevaluate\u001b[0m\u001b[0;34m=\u001b[0m\u001b[0mevaluate\u001b[0m\u001b[0;34m)\u001b[0m\u001b[0;34m\u001b[0m\u001b[0;34m\u001b[0m\u001b[0m\n\u001b[0m\u001b[1;32m    481\u001b[0m     \u001b[0;32mexcept\u001b[0m \u001b[0;34m(\u001b[0m\u001b[0mTokenError\u001b[0m\u001b[0;34m,\u001b[0m \u001b[0mSyntaxError\u001b[0m\u001b[0;34m)\u001b[0m \u001b[0;32mas\u001b[0m \u001b[0mexc\u001b[0m\u001b[0;34m:\u001b[0m\u001b[0;34m\u001b[0m\u001b[0;34m\u001b[0m\u001b[0m\n",
            "\u001b[0;32m/usr/local/lib/python3.7/dist-packages/sympy/parsing/sympy_parser.py\u001b[0m in \u001b[0;36mparse_expr\u001b[0;34m(s, local_dict, transformations, global_dict, evaluate)\u001b[0m\n\u001b[1;32m   1007\u001b[0m \u001b[0;34m\u001b[0m\u001b[0m\n\u001b[0;32m-> 1008\u001b[0;31m     \u001b[0;32mreturn\u001b[0m \u001b[0meval_expr\u001b[0m\u001b[0;34m(\u001b[0m\u001b[0mcode\u001b[0m\u001b[0;34m,\u001b[0m \u001b[0mlocal_dict\u001b[0m\u001b[0;34m,\u001b[0m \u001b[0mglobal_dict\u001b[0m\u001b[0;34m)\u001b[0m\u001b[0;34m\u001b[0m\u001b[0;34m\u001b[0m\u001b[0m\n\u001b[0m\u001b[1;32m   1009\u001b[0m \u001b[0;34m\u001b[0m\u001b[0m\n",
            "\u001b[0;32m/usr/local/lib/python3.7/dist-packages/sympy/parsing/sympy_parser.py\u001b[0m in \u001b[0;36meval_expr\u001b[0;34m(code, local_dict, global_dict)\u001b[0m\n\u001b[1;32m    902\u001b[0m     expr = eval(\n\u001b[0;32m--> 903\u001b[0;31m         code, global_dict, local_dict)  # take local objects in preference\n\u001b[0m\u001b[1;32m    904\u001b[0m \u001b[0;34m\u001b[0m\u001b[0m\n",
            "\u001b[0;31mSyntaxError\u001b[0m: invalid syntax (<string>, line 1)",
            "\nDuring handling of the above exception, another exception occurred:\n",
            "\u001b[0;31mSympifyError\u001b[0m                              Traceback (most recent call last)",
            "\u001b[0;32m<ipython-input-4-328561490096>\u001b[0m in \u001b[0;36m<module>\u001b[0;34m()\u001b[0m\n\u001b[1;32m      3\u001b[0m \u001b[0;32mdef\u001b[0m \u001b[0mf\u001b[0m\u001b[0;34m(\u001b[0m\u001b[0mx\u001b[0m\u001b[0;34m)\u001b[0m\u001b[0;34m:\u001b[0m\u001b[0;34m\u001b[0m\u001b[0;34m\u001b[0m\u001b[0m\n\u001b[1;32m      4\u001b[0m   \u001b[0;32mreturn\u001b[0m \u001b[0mnp\u001b[0m\u001b[0;34m.\u001b[0m\u001b[0mexp\u001b[0m\u001b[0;34m(\u001b[0m\u001b[0;34m-\u001b[0m\u001b[0mx\u001b[0m\u001b[0;34m)\u001b[0m\u001b[0;34m*\u001b[0m\u001b[0msin\u001b[0m\u001b[0;34m(\u001b[0m\u001b[0;36m3\u001b[0m\u001b[0;34m*\u001b[0m\u001b[0mx\u001b[0m\u001b[0;34m)\u001b[0m\u001b[0;34m\u001b[0m\u001b[0;34m\u001b[0m\u001b[0m\n\u001b[0;32m----> 5\u001b[0;31m \u001b[0mdiff\u001b[0m\u001b[0;34m(\u001b[0m\u001b[0mf\u001b[0m\u001b[0;34m,\u001b[0m\u001b[0mnp\u001b[0m\u001b[0;34m.\u001b[0m\u001b[0mpi\u001b[0m\u001b[0;34m)\u001b[0m\u001b[0;34m\u001b[0m\u001b[0;34m\u001b[0m\u001b[0m\n\u001b[0m",
            "\u001b[0;32m/usr/local/lib/python3.7/dist-packages/sympy/core/function.py\u001b[0m in \u001b[0;36mdiff\u001b[0;34m(f, *symbols, **kwargs)\u001b[0m\n\u001b[1;32m   2492\u001b[0m         \u001b[0;32mreturn\u001b[0m \u001b[0mf\u001b[0m\u001b[0;34m.\u001b[0m\u001b[0mdiff\u001b[0m\u001b[0;34m(\u001b[0m\u001b[0;34m*\u001b[0m\u001b[0msymbols\u001b[0m\u001b[0;34m,\u001b[0m \u001b[0;34m**\u001b[0m\u001b[0mkwargs\u001b[0m\u001b[0;34m)\u001b[0m\u001b[0;34m\u001b[0m\u001b[0;34m\u001b[0m\u001b[0m\n\u001b[1;32m   2493\u001b[0m     \u001b[0mkwargs\u001b[0m\u001b[0;34m.\u001b[0m\u001b[0msetdefault\u001b[0m\u001b[0;34m(\u001b[0m\u001b[0;34m'evaluate'\u001b[0m\u001b[0;34m,\u001b[0m \u001b[0;32mTrue\u001b[0m\u001b[0;34m)\u001b[0m\u001b[0;34m\u001b[0m\u001b[0;34m\u001b[0m\u001b[0m\n\u001b[0;32m-> 2494\u001b[0;31m     \u001b[0;32mreturn\u001b[0m \u001b[0m_derivative_dispatch\u001b[0m\u001b[0;34m(\u001b[0m\u001b[0mf\u001b[0m\u001b[0;34m,\u001b[0m \u001b[0;34m*\u001b[0m\u001b[0msymbols\u001b[0m\u001b[0;34m,\u001b[0m \u001b[0;34m**\u001b[0m\u001b[0mkwargs\u001b[0m\u001b[0;34m)\u001b[0m\u001b[0;34m\u001b[0m\u001b[0;34m\u001b[0m\u001b[0m\n\u001b[0m\u001b[1;32m   2495\u001b[0m \u001b[0;34m\u001b[0m\u001b[0m\n\u001b[1;32m   2496\u001b[0m \u001b[0;34m\u001b[0m\u001b[0m\n",
            "\u001b[0;32m/usr/local/lib/python3.7/dist-packages/sympy/core/function.py\u001b[0m in \u001b[0;36m_derivative_dispatch\u001b[0;34m(expr, *variables, **kwargs)\u001b[0m\n\u001b[1;32m   1940\u001b[0m         \u001b[0;32mfrom\u001b[0m \u001b[0msympy\u001b[0m\u001b[0;34m.\u001b[0m\u001b[0mtensor\u001b[0m\u001b[0;34m.\u001b[0m\u001b[0marray\u001b[0m\u001b[0;34m.\u001b[0m\u001b[0marray_derivatives\u001b[0m \u001b[0;32mimport\u001b[0m \u001b[0mArrayDerivative\u001b[0m\u001b[0;34m\u001b[0m\u001b[0;34m\u001b[0m\u001b[0m\n\u001b[1;32m   1941\u001b[0m         \u001b[0;32mreturn\u001b[0m \u001b[0mArrayDerivative\u001b[0m\u001b[0;34m(\u001b[0m\u001b[0mexpr\u001b[0m\u001b[0;34m,\u001b[0m \u001b[0;34m*\u001b[0m\u001b[0mvariables\u001b[0m\u001b[0;34m,\u001b[0m \u001b[0;34m**\u001b[0m\u001b[0mkwargs\u001b[0m\u001b[0;34m)\u001b[0m\u001b[0;34m\u001b[0m\u001b[0;34m\u001b[0m\u001b[0m\n\u001b[0;32m-> 1942\u001b[0;31m     \u001b[0;32mreturn\u001b[0m \u001b[0mDerivative\u001b[0m\u001b[0;34m(\u001b[0m\u001b[0mexpr\u001b[0m\u001b[0;34m,\u001b[0m \u001b[0;34m*\u001b[0m\u001b[0mvariables\u001b[0m\u001b[0;34m,\u001b[0m \u001b[0;34m**\u001b[0m\u001b[0mkwargs\u001b[0m\u001b[0;34m)\u001b[0m\u001b[0;34m\u001b[0m\u001b[0;34m\u001b[0m\u001b[0m\n\u001b[0m\u001b[1;32m   1943\u001b[0m \u001b[0;34m\u001b[0m\u001b[0m\n\u001b[1;32m   1944\u001b[0m \u001b[0;34m\u001b[0m\u001b[0m\n",
            "\u001b[0;32m/usr/local/lib/python3.7/dist-packages/sympy/core/function.py\u001b[0m in \u001b[0;36m__new__\u001b[0;34m(cls, expr, *variables, **kwargs)\u001b[0m\n\u001b[1;32m   1268\u001b[0m         \u001b[0;32mfrom\u001b[0m \u001b[0msympy\u001b[0m\u001b[0;34m.\u001b[0m\u001b[0mutilities\u001b[0m\u001b[0;34m.\u001b[0m\u001b[0mmisc\u001b[0m \u001b[0;32mimport\u001b[0m \u001b[0mfilldedent\u001b[0m\u001b[0;34m\u001b[0m\u001b[0;34m\u001b[0m\u001b[0m\n\u001b[1;32m   1269\u001b[0m \u001b[0;34m\u001b[0m\u001b[0m\n\u001b[0;32m-> 1270\u001b[0;31m         \u001b[0mexpr\u001b[0m \u001b[0;34m=\u001b[0m \u001b[0msympify\u001b[0m\u001b[0;34m(\u001b[0m\u001b[0mexpr\u001b[0m\u001b[0;34m)\u001b[0m\u001b[0;34m\u001b[0m\u001b[0;34m\u001b[0m\u001b[0m\n\u001b[0m\u001b[1;32m   1271\u001b[0m         \u001b[0msymbols_or_none\u001b[0m \u001b[0;34m=\u001b[0m \u001b[0mgetattr\u001b[0m\u001b[0;34m(\u001b[0m\u001b[0mexpr\u001b[0m\u001b[0;34m,\u001b[0m \u001b[0;34m\"free_symbols\"\u001b[0m\u001b[0;34m,\u001b[0m \u001b[0;32mNone\u001b[0m\u001b[0;34m)\u001b[0m\u001b[0;34m\u001b[0m\u001b[0;34m\u001b[0m\u001b[0m\n\u001b[1;32m   1272\u001b[0m         \u001b[0mhas_symbol_set\u001b[0m \u001b[0;34m=\u001b[0m \u001b[0misinstance\u001b[0m\u001b[0;34m(\u001b[0m\u001b[0msymbols_or_none\u001b[0m\u001b[0;34m,\u001b[0m \u001b[0mset\u001b[0m\u001b[0;34m)\u001b[0m\u001b[0;34m\u001b[0m\u001b[0;34m\u001b[0m\u001b[0m\n",
            "\u001b[0;32m/usr/local/lib/python3.7/dist-packages/sympy/core/sympify.py\u001b[0m in \u001b[0;36msympify\u001b[0;34m(a, locals, convert_xor, strict, rational, evaluate)\u001b[0m\n\u001b[1;32m    480\u001b[0m         \u001b[0mexpr\u001b[0m \u001b[0;34m=\u001b[0m \u001b[0mparse_expr\u001b[0m\u001b[0;34m(\u001b[0m\u001b[0ma\u001b[0m\u001b[0;34m,\u001b[0m \u001b[0mlocal_dict\u001b[0m\u001b[0;34m=\u001b[0m\u001b[0mlocals\u001b[0m\u001b[0;34m,\u001b[0m \u001b[0mtransformations\u001b[0m\u001b[0;34m=\u001b[0m\u001b[0mtransformations\u001b[0m\u001b[0;34m,\u001b[0m \u001b[0mevaluate\u001b[0m\u001b[0;34m=\u001b[0m\u001b[0mevaluate\u001b[0m\u001b[0;34m)\u001b[0m\u001b[0;34m\u001b[0m\u001b[0;34m\u001b[0m\u001b[0m\n\u001b[1;32m    481\u001b[0m     \u001b[0;32mexcept\u001b[0m \u001b[0;34m(\u001b[0m\u001b[0mTokenError\u001b[0m\u001b[0;34m,\u001b[0m \u001b[0mSyntaxError\u001b[0m\u001b[0;34m)\u001b[0m \u001b[0;32mas\u001b[0m \u001b[0mexc\u001b[0m\u001b[0;34m:\u001b[0m\u001b[0;34m\u001b[0m\u001b[0;34m\u001b[0m\u001b[0m\n\u001b[0;32m--> 482\u001b[0;31m         \u001b[0;32mraise\u001b[0m \u001b[0mSympifyError\u001b[0m\u001b[0;34m(\u001b[0m\u001b[0;34m'could not parse %r'\u001b[0m \u001b[0;34m%\u001b[0m \u001b[0ma\u001b[0m\u001b[0;34m,\u001b[0m \u001b[0mexc\u001b[0m\u001b[0;34m)\u001b[0m\u001b[0;34m\u001b[0m\u001b[0;34m\u001b[0m\u001b[0m\n\u001b[0m\u001b[1;32m    483\u001b[0m \u001b[0;34m\u001b[0m\u001b[0m\n\u001b[1;32m    484\u001b[0m     \u001b[0;32mreturn\u001b[0m \u001b[0mexpr\u001b[0m\u001b[0;34m\u001b[0m\u001b[0;34m\u001b[0m\u001b[0m\n",
            "\u001b[0;31mSympifyError\u001b[0m: Sympify of expression 'could not parse '<function f at 0x7f71e418cf80>'' failed, because of exception being raised:\nSyntaxError: invalid syntax (<string>, line 1)"
          ]
        }
      ]
    },
    {
      "cell_type": "code",
      "execution_count": null,
      "metadata": {
        "id": "J9Q5mvr_iV9d",
        "colab": {
          "base_uri": "https://localhost:8080/"
        },
        "outputId": "06bbe9f3-b71a-4f69-a4ff-8cb4a52412c4"
      },
      "outputs": [
        {
          "output_type": "error",
          "ename": "NameError",
          "evalue": "ignored",
          "traceback": [
            "\u001b[0;31m---------------------------------------------------------------------------\u001b[0m",
            "\u001b[0;31mNameError\u001b[0m                                 Traceback (most recent call last)",
            "\u001b[0;32m<ipython-input-1-948db3d063be>\u001b[0m in \u001b[0;36m<module>\u001b[0;34m()\u001b[0m\n\u001b[1;32m      2\u001b[0m \u001b[0;32mdef\u001b[0m \u001b[0mf\u001b[0m\u001b[0;34m(\u001b[0m\u001b[0mx\u001b[0m\u001b[0;34m)\u001b[0m\u001b[0;34m:\u001b[0m\u001b[0;34m\u001b[0m\u001b[0;34m\u001b[0m\u001b[0m\n\u001b[1;32m      3\u001b[0m     \u001b[0;32mreturn\u001b[0m \u001b[0mnp\u001b[0m\u001b[0;34m.\u001b[0m\u001b[0mexp\u001b[0m\u001b[0;34m(\u001b[0m\u001b[0;34m-\u001b[0m\u001b[0mx\u001b[0m\u001b[0;34m)\u001b[0m\u001b[0;34m*\u001b[0m\u001b[0mnp\u001b[0m\u001b[0;34m.\u001b[0m\u001b[0msin\u001b[0m\u001b[0;34m(\u001b[0m\u001b[0;36m3.0\u001b[0m\u001b[0;34m*\u001b[0m\u001b[0mx\u001b[0m\u001b[0;34m)\u001b[0m\u001b[0;34m\u001b[0m\u001b[0;34m\u001b[0m\u001b[0m\n\u001b[0;32m----> 4\u001b[0;31m \u001b[0mderivative\u001b[0m\u001b[0;34m(\u001b[0m\u001b[0mf\u001b[0m\u001b[0;34m,\u001b[0m\u001b[0mnp\u001b[0m\u001b[0;34m.\u001b[0m\u001b[0mpi\u001b[0m\u001b[0;34m)\u001b[0m\u001b[0;34m\u001b[0m\u001b[0;34m\u001b[0m\u001b[0m\n\u001b[0m",
            "\u001b[0;31mNameError\u001b[0m: name 'derivative' is not defined"
          ]
        }
      ],
      "source": [
        "#Numerical differentiaion example #4 derivative at x=pi\n",
        "def f(x):\n",
        "    return np.exp(-x)*np.sin(3.0*x)\n",
        "derivative(f,np.pi)"
      ]
    },
    {
      "cell_type": "markdown",
      "metadata": {
        "id": "rIGpiNOeiV9d"
      },
      "source": [
        "##### Analytical Integration exercise A\n",
        "$𝑓(𝑥)=\\int {(e^{-x}+\\cos(2x) \\sin{(3x)})} dx$"
      ]
    },
    {
      "cell_type": "code",
      "execution_count": null,
      "metadata": {
        "id": "A8P-S76SiV9d",
        "colab": {
          "base_uri": "https://localhost:8080/",
          "height": 53
        },
        "outputId": "03c70d9e-e4ba-4d5b-d056-c89c03a7ed5b"
      },
      "outputs": [
        {
          "output_type": "execute_result",
          "data": {
            "text/plain": [
              "-2*sin(2*x)*sin(3*x)/5 - 3*cos(2*x)*cos(3*x)/5 - exp(-x)"
            ],
            "text/latex": "$\\displaystyle - \\frac{2 \\sin{\\left(2 x \\right)} \\sin{\\left(3 x \\right)}}{5} - \\frac{3 \\cos{\\left(2 x \\right)} \\cos{\\left(3 x \\right)}}{5} - e^{- x}$"
          },
          "metadata": {},
          "execution_count": 114
        }
      ],
      "source": [
        "#write your code here\n",
        "import sympy as sp\n",
        "from sympy import exp,sin,cos\n",
        "x=sp.Symbol('x')\n",
        "sp.integrate(sp.exp(-x)+cos(2*x)*sin(3*x))\n",
        "\n"
      ]
    },
    {
      "cell_type": "markdown",
      "metadata": {
        "id": "Viw_WdN2iV9d"
      },
      "source": [
        "\n",
        "###### Numerical Integration exercise B\n",
        "$𝑓(𝑥)=\\int_{-\\pi/2}^{\\pi/2}{(\\sin(x)+5\\cos(3x)+\\cos(x))} \\,dx$"
      ]
    },
    {
      "cell_type": "code",
      "execution_count": null,
      "metadata": {
        "id": "X6eIcMGoiV9d",
        "colab": {
          "base_uri": "https://localhost:8080/"
        },
        "outputId": "33fbf67d-b9b4-4e29-af86-78aec1ae8844"
      },
      "outputs": [
        {
          "output_type": "stream",
          "name": "stdout",
          "text": [
            "(-1.333333333333333, 2.797025379304753e-12)\n"
          ]
        }
      ],
      "source": [
        "#write your code here\n",
        "import numpy as np\n",
        "from scipy.integrate import quad\n",
        "from sympy import sin,cos,exp\n",
        "x=sympy.symbols('x')\n",
        "def f(x):\n",
        "  return sin(x)+5*cos(3*x)+cos(x)\n",
        "w=scipy.integrate.quad(f,-np.pi/2,np.pi/2)\n",
        "print(w)\n"
      ]
    },
    {
      "cell_type": "markdown",
      "metadata": {
        "id": "V7iUUpRviV9e"
      },
      "source": [
        "###### Analytical differentiaion exercise C\n",
        "$\\dfrac{d\\,}{dx} {(e^{-x}+\\cos(2x)\\sin{(3x)})}$ "
      ]
    },
    {
      "cell_type": "code",
      "execution_count": null,
      "metadata": {
        "id": "Bw4kDCxWiV9e",
        "colab": {
          "base_uri": "https://localhost:8080/",
          "height": 39
        },
        "outputId": "4635d847-d6e1-43c0-a5e9-74f71e102474"
      },
      "outputs": [
        {
          "output_type": "execute_result",
          "data": {
            "text/plain": [
              "-2*sin(2*x)*sin(3*x) + 3*cos(2*x)*cos(3*x) - exp(-x)"
            ],
            "text/latex": "$\\displaystyle - 2 \\sin{\\left(2 x \\right)} \\sin{\\left(3 x \\right)} + 3 \\cos{\\left(2 x \\right)} \\cos{\\left(3 x \\right)} - e^{- x}$"
          },
          "metadata": {},
          "execution_count": 115
        }
      ],
      "source": [
        "#write your code here\n",
        "import sympy as sp\n",
        "from sympy import sin,cos,exp\n",
        "sp.diff(sp.exp(-x)+cos(2*x)*sin(3*x))\n"
      ]
    },
    {
      "cell_type": "markdown",
      "metadata": {
        "id": "yHTu3jgxiV9e"
      },
      "source": [
        "###### Numerical differentiaion exercise D\n",
        "$\\dfrac{d\\,}{dx} {(e^{-x}+\\cos(2x)\\sin{(3x)})}$ at   ${x=\\pi/2}$"
      ]
    },
    {
      "cell_type": "code",
      "execution_count": null,
      "metadata": {
        "id": "2VwwI4jJiV9e",
        "colab": {
          "base_uri": "https://localhost:8080/"
        },
        "outputId": "2998eb2d-531e-416c-b259-54541e664606"
      },
      "outputs": [
        {
          "output_type": "stream",
          "name": "stdout",
          "text": [
            "-0.207883041027690\n"
          ]
        }
      ],
      "source": [
        "#write your code here\n",
        "from scipy.misc import derivative\n",
        "import numpy\n",
        "from sympy import sin,cos,exp\n",
        "x=sympy.symbols('x')\n",
        "def f(x):\n",
        "  return sympy.exp(-x)+sympy.cos(2*x)*sympy.sin(3*x)\n",
        "d=derivative(f,np.pi/2,0.01)\n",
        "print(d) \n"
      ]
    }
  ],
  "metadata": {
    "kernelspec": {
      "display_name": "Python 3",
      "language": "python",
      "name": "python3"
    },
    "language_info": {
      "codemirror_mode": {
        "name": "ipython",
        "version": 3
      },
      "file_extension": ".py",
      "mimetype": "text/x-python",
      "name": "python",
      "nbconvert_exporter": "python",
      "pygments_lexer": "ipython3",
      "version": "3.7.9"
    },
    "colab": {
      "provenance": [],
      "collapsed_sections": [
        "eWBWV3p7iV9L",
        "TZYa7rhjiV9L",
        "ANTyEhrsiV9W",
        "wlv5FoCriV9W"
      ]
    }
  },
  "nbformat": 4,
  "nbformat_minor": 0
}